{
 "cells": [
  {
   "cell_type": "code",
   "execution_count": null,
   "metadata": {},
   "outputs": [],
   "source": [
    "# default_exp simulation"
   ]
  },
  {
   "cell_type": "markdown",
   "metadata": {},
   "source": [
    "# Simulation\n",
    "\n",
    "> Tools for  simulating cellular vertex dynamics. Iterative algorithm implementations, cell monolayer generators (vertices). (anything else to add?!)"
   ]
  },
  {
   "cell_type": "markdown",
   "metadata": {},
   "source": [
    "- numerical integration method(s)\n",
    "    - Euler's method\n",
    "    - any other approximation?\n",
    "- implement functions for checking:\n",
    "    - vertex configuration (for high tension cases there might be overlapping, or twisted cells which are considered illigal by the model)\n",
    "    - update steps that implement required vertex check, and any other checks needed before accepting vertex position update\n",
    "- implement Voronoi cell generator for different cell configuration cases (random, evenly spaced, concave cell, ...)"
   ]
  },
  {
   "cell_type": "code",
   "execution_count": null,
   "metadata": {},
   "outputs": [],
   "source": [
    "#hide\n",
    "from nbdev.showdoc import *"
   ]
  },
  {
   "cell_type": "code",
   "execution_count": null,
   "metadata": {},
   "outputs": [],
   "source": [
    "#hide\n",
    "from vertex_simulation.primitives import *\n",
    "%load_ext autoreload\n",
    "%autoreload 2"
   ]
  },
  {
   "cell_type": "code",
   "execution_count": null,
   "metadata": {},
   "outputs": [],
   "source": [
    "#export\n",
    "import torch, numpy as np, matplotlib.pyplot as plt\n",
    "from scipy.spatial import Voronoi,voronoi_plot_2d"
   ]
  },
  {
   "cell_type": "markdown",
   "metadata": {},
   "source": [
    "## Euler's method"
   ]
  },
  {
   "cell_type": "code",
   "execution_count": null,
   "metadata": {},
   "outputs": [],
   "source": [
    "# define function for numerical integration"
   ]
  },
  {
   "cell_type": "markdown",
   "metadata": {},
   "source": [
    "## Cell Monolayer Graph Generator and Helper functions"
   ]
  },
  {
   "cell_type": "code",
   "execution_count": null,
   "metadata": {},
   "outputs": [],
   "source": [
    "#export\n",
    "def mask2vrn_region(verts,vrn_regions,row_mask):\n",
    "    '''Apply mask to Voronoi regions and vertices and re-label them.\n",
    "    \n",
    "    In addition to the `row_mask` (for vertices), also removes empty regions\n",
    "    and regions with \"-1\" Voronoi vertices.\n",
    "    \n",
    "    Arg-s:\n",
    "    - `verts` : Voronoi vertex locations (`numpy` array).\n",
    "    - `vrn_regions`: Voronoi regions (\"cells\"). Empty regions and\n",
    "    out-of-diagram Voronoi regions with \"-1\" vertices are removed.\n",
    "    - `row_mask`: 1-d binary mask for `verts` rows.\n",
    "    \n",
    "    Returns:\n",
    "    - `v_x` : vertices after applying the mask (`=verts[row_mask,:]`)\n",
    "    - `regions`: re-labelled regions (with updated vertex indices) \n",
    "    '''\n",
    "    v_x = verts[row_mask,:]\n",
    "    idx_0    = np.arange(verts.shape[0])\n",
    "    idx_keep = idx_0[row_mask]\n",
    "    idx_new    = np.arange(idx_keep.shape[0])\n",
    "    # hexagon regions\n",
    "    regions = [[idx_new[idx_keep==v].item() for v in r] for r in vrn_regions\n",
    "               if len(r) and (-1 not in r) and np.all(row_mask[r])]\n",
    "    return v_x, regions"
   ]
  },
  {
   "cell_type": "code",
   "execution_count": null,
   "metadata": {},
   "outputs": [],
   "source": [
    "#export\n",
    "def unit_hex_seeds(Sx,Sy):\n",
    "    '''Produces seed locations for Voronoi such that Voronoi regions \n",
    "    form rectangle of hexagonal cells with unit side length (==1).\n",
    "    \n",
    "    Arg-s:\n",
    "    - `Sx`, `Sy`: width (x-axis) and height (y-axis) in cells (assumes that both $S_{x,y}>0$)\n",
    "    \n",
    "    Returns:\n",
    "    - `numpy` array with `Sx`x`Sy` rows and 2 columns.\n",
    "    '''\n",
    "    # for regular hexagons with unit length edges\n",
    "    dXY = [np.sqrt(3), 1.5] # original grid spacing\n",
    "    x_offset = np.sqrt(3)/2 # moves alter-g rows to the right (+ x-axis)\n",
    "    X,Y = np.meshgrid(np.linspace(0,(Sx-1)*dXY[0],Sx),np.linspace(0,(Sy-1)*dXY[1],Sy))\n",
    "    X[1::2,:]+=x_offset\n",
    "    return np.concatenate((X.ravel()[:,np.newaxis],Y.ravel()[:,np.newaxis]),axis=1)"
   ]
  },
  {
   "cell_type": "code",
   "execution_count": null,
   "metadata": {},
   "outputs": [],
   "source": [
    "# export\n",
    "def unit_hexagons(Ny,Nx):\n",
    "    '''Produces Ny rows-by-Nx columns of hexagons with unit length edges.\n",
    "    \n",
    "    Uses scipy.spatial.Voronoi, and unit_hex_seeds then trims\n",
    "    non-hexagon edge cells and vertices.\n",
    "    \n",
    "    Returns:\n",
    "    - `v_x`: vertex locations, Mx2 `numpy` array (M number of vertices)\n",
    "    - `regions`: cell vertices (Voronoi regions; list of lists)\n",
    "    '''\n",
    "    def hex_mask_(verts,Nx,l_tol = 0.0001):\n",
    "        '''Mask for vertices forming closed hexagons'''\n",
    "        # mask for removing vertices pentagon region tips (left and right sides)\n",
    "        mask_hex = np.logical_and(verts[:,0]>0, verts[:,0]<(Nx+1.5)*np.sqrt(3))\n",
    "        v_x = verts[mask_hex,:]\n",
    "        # remove corner vertices (not forming hexagons)\n",
    "        Xmin =(1.+l_tol)*v_x.min(axis=0)\n",
    "        Xmax =(1.-l_tol)*v_x.max(axis=0)\n",
    "        left_btm = np.logical_not(np.logical_and(verts[:,0]<Xmin[0],verts[:,1]<Xmin[1]))\n",
    "        left_top = np.logical_not(np.logical_and(verts[:,0]<Xmin[0],verts[:,1]>Xmax[1]))\n",
    "        rght_top = np.logical_not(np.logical_and(verts[:,0]>Xmax[0],verts[:,1]>Xmax[1]))\n",
    "        mask_cor = np.logical_and(np.logical_and(left_btm,left_top),rght_top)\n",
    "        # full mask\n",
    "        return np.logical_and(mask_hex,mask_cor)\n",
    "    \n",
    "    Xseed = unit_hex_seeds(Nx+2,Ny+2)\n",
    "    vrn = Voronoi(Xseed)\n",
    "    vrn_mask = hex_mask_(vrn.vertices,Nx)\n",
    "    v_x,regions = mask2vrn_region(vrn.vertices,vrn.regions,vrn_mask)\n",
    "    return v_x,regions"
   ]
  },
  {
   "cell_type": "markdown",
   "metadata": {},
   "source": [
    "**Notes**:\n",
    "- `unit_hexagons` internally removes non-hexagon region vertices at the boundaries (left and right) produced by `scipy.spatial.Voronoi`\n",
    "- If you would like to keep these \"raw\" vertices, you can use `unit_hex_seeds` to seed `scipy.spatial.Voronoi` directly."
   ]
  },
  {
   "cell_type": "markdown",
   "metadata": {},
   "source": [
    "**Usage examples**:\n",
    "\n",
    "- Generate graph vertices arranged as a lattice of unit length hexagons"
   ]
  },
  {
   "cell_type": "code",
   "execution_count": null,
   "metadata": {},
   "outputs": [
    {
     "data": {
      "image/png": "[encoded data removed]",
      "text/plain": [
       "<Figure size 324x216 with 1 Axes>"
      ]
     },
     "metadata": {
      "needs_background": "light"
     },
     "output_type": "display_data"
    }
   ],
   "source": [
    "v_x,regions =unit_hexagons(5,7) # unit hexagon vertices\n",
    "edge_list,_ = VoronoiRegions2Edges(regions) #get list of edges\n",
    "\n",
    "# display the graph:\n",
    "plt.figure(figsize=[4.5,3])\n",
    "plot_graph_as_quiver(Graph(Vertex(v_x),torch.tensor(edge_list)))\n",
    "plt.plot(v_x[:,0],v_x[:,1],'mo',alpha=.3)\n",
    "plt.show()"
   ]
  },
  {
   "cell_type": "markdown",
   "metadata": {},
   "source": [
    "- Use these vertices and Voronoi regions to generate `Monolayer` objects,\n",
    "- you can use `VoronoiRegions2Edges` to convert Voronoi regions into an edge list and corresponding cells required for `Monolayer` initialization."
   ]
  },
  {
   "cell_type": "code",
   "execution_count": null,
   "metadata": {},
   "outputs": [
    {
     "data": {
      "image/png": "[encoded data removed]",
      "text/plain": [
       "<Figure size 216x216 with 1 Axes>"
      ]
     },
     "metadata": {
      "needs_background": "light"
     },
     "output_type": "display_data"
    }
   ],
   "source": [
    "v_x,regions =unit_hexagons(4,4)\n",
    "\n",
    "# add some noise\n",
    "np.random.seed(42) # RNG seed\n",
    "v_x += np.random.randn(v_x.shape[0], v_x.shape[1])*.2\n",
    "\n",
    "# get edges and cells (as a set of edges)\n",
    "edge_list,cells = VoronoiRegions2Edges(regions) \n",
    "\n",
    "# create a Monolayer object from the hexagonal cells\n",
    "cell_graph = Monolayer(vertices=Vertex(v_x.copy()),\n",
    "                       edges=torch.tensor(edge_list),\n",
    "                       cells=cells)\n",
    "\n",
    "figsize=[3,3]\n",
    "plt.figure(figsize=figsize)\n",
    "plot_graph_as_quiver(cell_graph)\n",
    "plt.plot(cell_graph.vertices.x[:,0].detach().cpu(),\n",
    "         cell_graph.vertices.x[:,1].detach().cpu(),'mo',ms=5,alpha=.5)\n",
    "plt.show()"
   ]
  },
  {
   "cell_type": "code",
   "execution_count": null,
   "metadata": {},
   "outputs": [
    {
     "name": "stdout",
     "output_type": "stream",
     "text": [
      "Converted 00_primitives.ipynb.\n",
      "Converted 01_simulation.ipynb.\n",
      "Converted index.ipynb.\n",
      "Converted vertex_dynamics_models.ipynb.\n"
     ]
    }
   ],
   "source": [
    "#hide\n",
    "# run this as a last cell in your notebook to export this module\n",
    "from nbdev.export import *\n",
    "notebook2script()"
   ]
  },
  {
   "cell_type": "code",
   "execution_count": null,
   "metadata": {},
   "outputs": [],
   "source": []
  }
 ],
 "metadata": {
  "kernelspec": {
   "display_name": "Python [conda env:pytorch]",
   "language": "python",
   "name": "conda-env-pytorch-py"
  }
 },
 "nbformat": 4,
 "nbformat_minor": 2
}
