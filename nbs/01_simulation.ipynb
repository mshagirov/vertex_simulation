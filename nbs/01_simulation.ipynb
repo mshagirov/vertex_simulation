{
 "cells": [
  {
   "cell_type": "code",
   "execution_count": null,
   "metadata": {},
   "outputs": [],
   "source": [
    "# default_exp simulation"
   ]
  },
  {
   "cell_type": "markdown",
   "metadata": {},
   "source": [
    "# Simulation\n",
    "\n",
    "> Tools for  simulating cellular vertex dynamics. Iterative algorithm implementations, cell monolayer generators (vertices). (anything else to add?!)"
   ]
  },
  {
   "cell_type": "markdown",
   "metadata": {},
   "source": [
    "- numerical integration method(s)\n",
    "    - Euler's method\n",
    "    - any other approximation?\n",
    "- implement functions for checking:\n",
    "    - vertex configuration (for high tension cases there might be overlapping, or twisted cells which are considered illigal by the model)\n",
    "    - update steps that implement required vertex check, and any other checks needed before accepting vertex position update\n",
    "- implement Voronoi cell generator for different cell configuration cases (random, evenly spaced, concave cell, ...)"
   ]
  },
  {
   "cell_type": "code",
   "execution_count": null,
   "metadata": {},
   "outputs": [],
   "source": [
    "#hide\n",
    "from nbdev.showdoc import *"
   ]
  },
  {
   "cell_type": "code",
   "execution_count": null,
   "metadata": {},
   "outputs": [],
   "source": [
    "#hide\n",
    "from vertex_simulation.primitives import *\n",
    "import torch, numpy as np, matplotlib.pylab as plt\n",
    "# from mpl_toolkits.mplot3d import axes3d\n",
    "# after you modify this notebook use \"nbdev_build_docs\" to build the docs (and readme.md)\n",
    "# and nbdev_clean_nbs to remove notebook metadata before pushing it\n",
    "%load_ext autoreload\n",
    "%autoreload 2"
   ]
  },
  {
   "cell_type": "markdown",
   "metadata": {},
   "source": [
    "- euler's method"
   ]
  },
  {
   "cell_type": "code",
   "execution_count": null,
   "metadata": {},
   "outputs": [],
   "source": []
  }
 ],
 "metadata": {
  "kernelspec": {
   "display_name": "Python [conda env:pytorch]",
   "language": "python",
   "name": "conda-env-pytorch-py"
  }
 },
 "nbformat": 4,
 "nbformat_minor": 2
}
