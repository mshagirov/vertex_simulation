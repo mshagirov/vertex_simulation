{
 "cells": [
  {
   "cell_type": "code",
   "execution_count": null,
   "metadata": {},
   "outputs": [],
   "source": [
    "# default_exp simulation"
   ]
  },
  {
   "cell_type": "code",
   "execution_count": null,
   "metadata": {},
   "outputs": [],
   "source": [
    "#hide\n",
    "#For running in JupyterHub:\n",
    "import os\n",
    "if os.path.basename(os.getcwd())!='nbs':\n",
    "    homedir = os.path.expanduser(\"~\")\n",
    "    lib_path = os.path.join(homedir,'images','codesDIR/vertex_simulation/nbs')\n",
    "    os.chdir(lib_path)"
   ]
  },
  {
   "cell_type": "markdown",
   "metadata": {},
   "source": [
    "# Simulation\n",
    "\n",
    "> Tools for  simulating cellular vertex dynamics. Iterative algorithm implementations, cell monolayer generators (vertices). (anything else to add?!)"
   ]
  },
  {
   "cell_type": "markdown",
   "metadata": {},
   "source": [
    "- numerical integration method(s)\n",
    "    - Euler's method\n",
    "    - any other approximation?\n",
    "- implement functions for checking:\n",
    "    - vertex configuration (for high tension cases there might be overlapping, or twisted cells which are considered illigal by the model)\n",
    "    - update steps that implement required vertex check, and any other checks needed before accepting vertex position update\n",
    "- implement Voronoi cell generator for different cell configuration cases (random, evenly spaced, concave cell, ...)"
   ]
  },
  {
   "cell_type": "code",
   "execution_count": null,
   "metadata": {},
   "outputs": [],
   "source": [
    "#hide\n",
    "from nbdev.showdoc import *"
   ]
  },
  {
   "cell_type": "code",
   "execution_count": null,
   "metadata": {},
   "outputs": [],
   "source": [
    "#hide\n",
    "from vertex_simulation.primitives import *\n",
    "%load_ext autoreload\n",
    "%autoreload 2"
   ]
  },
  {
   "cell_type": "code",
   "execution_count": null,
   "metadata": {},
   "outputs": [],
   "source": [
    "#export\n",
    "import torch, numpy as np, matplotlib.pyplot as plt\n",
    "from scipy.spatial import Voronoi,voronoi_plot_2d"
   ]
  },
  {
   "cell_type": "markdown",
   "metadata": {},
   "source": [
    "## Vertex Trajectory Simulations"
   ]
  },
  {
   "cell_type": "code",
   "execution_count": null,
   "metadata": {},
   "outputs": [],
   "source": [
    "#export\n",
    "class Simulation(object):\n",
    "    '''Abstract class for vertex dynamics simulations\n",
    "    \n",
    "    Children should implement following methods:\n",
    "    - `_energy(self,...)`: calculates systems energy\n",
    "    - `_force(self,...)`: calculates forces acting on all vertices\n",
    "    (you can implement either one, or both of the energy and force functions)\n",
    "    - `sample_trajectory(self,...)`: simulates dynamics and samples vertex trajectories.\n",
    "    This method should use either force or energy (spatial gradient) to simulate the system dynamics.\n",
    "    '''\n",
    "    def __init__(self,m=None):\n",
    "        '''m: `Monolayer` or `Graph` object (e.g. cells defined as polygons).'''\n",
    "        pass\n",
    "    def _energy(self):\n",
    "        '''Computes the total free energy of the system.'''\n",
    "        pass\n",
    "    def _force(self):\n",
    "        '''Computes the total force acting on each vertex. Alternatively use F_i = -grad_i(U), where\n",
    "        grad_i is the spatial gradient with respect to vertex i, and U is the total free energy.\n",
    "        '''\n",
    "        pass\n",
    "    def sample_trajectory(self, T=10000, delta_T=0.001, sample_freq=10, T_ignore=500):\n",
    "        '''\n",
    "        Run simulation for `T` time steps and sample vertex trajectories with frequency `sample_freq`.\n",
    "        - `T`  : total number of time steps\n",
    "        - `delta_T`: step size (e.g. for the numerical integration using Euler's method)\n",
    "        - `sample_freq`: Trajectory sampling frequency. Use `assert (T % sample_freq == 0)` in your implementation.\n",
    "        - `T_ignore`: number of initial time steps to ignore.\n",
    "        '''\n",
    "        pass"
   ]
  },
  {
   "cell_type": "code",
   "execution_count": null,
   "metadata": {},
   "outputs": [],
   "source": [
    "#export\n",
    "class Simulation_Honda(Simulation):\n",
    "    '''Honda et al. definition of Vertex model.\n",
    "    \n",
    "    Total free energy of the `Monolayer` is defined as `U = Ud + Us + Ua`\n",
    "    - `Ud` : deformation energy or elastic energy of the cells. For a cell `k`, `Ud[k] = K*(A[k] - Ao)^2`\n",
    "             where `A[k]>=0` is an area of cell `k`, `K>=0` is an elastic constant, and `Ao>=0` is a target area.\n",
    "    - `Us` : membrane surface tension energy. For cell `k`, `Us[k] = Kp*(P[k] - Po)^2`\n",
    "             where `Kp>=0` is constant, `Po` is a target perimeter (constant), and `P[k]` is a perimeter of cell `k`.\n",
    "    - `Ua` : cell-cell adhesion energy.\n",
    "    \n",
    "    References:\n",
    "    - Fletcher A.G., _et al._, _Progress in Biophysics and Molecular Biology_ __113__, 299-326 (2013).\n",
    "    '''\n",
    "    def __init__(self, m=None):\n",
    "        '''m: `Monolayer` object (`Graph` w/ cells defined as polygons).'''\n",
    "        super().__init__(m=m)\n",
    "        \n",
    "    def _energy(self):\n",
    "        '''Computes total free energy U. U = Ud + Us + Ua\n",
    "        '''\n",
    "        pass"
   ]
  },
  {
   "cell_type": "code",
   "execution_count": null,
   "metadata": {},
   "outputs": [
    {
     "name": "stdout",
     "output_type": "stream",
     "text": [
      "Device is set to [ cuda ]\n"
     ]
    }
   ],
   "source": [
    "device = torch.device('cpu')\n",
    "if torch.cuda.is_available():\n",
    "    device = torch.device('cuda')\n",
    "print(f'Device is set to [ {device} ]')"
   ]
  },
  {
   "cell_type": "code",
   "execution_count": null,
   "metadata": {},
   "outputs": [
    {
     "name": "stdout",
     "output_type": "stream",
     "text": [
      "x : tensor([[0., 0., 0., 0., 0.],\n",
      "        [0., 0., 0., 0., 0.],\n",
      "        [0., 0., 0., 0., 0.],\n",
      "        [0., 0., 0., 0., 0.],\n",
      "        [0., 0., 0., 0., 0.]], device='cuda:0')\n",
      "a : tensor([ 0.0000,  0.1000, -0.0100,  2.0000,  3.0000], device='cuda:0')\n",
      "\n",
      "( x[0,:] = a[:] )\n",
      "x : tensor([[ 0.0000,  0.1000, -0.0100,  2.0000,  3.0000],\n",
      "        [ 0.0000,  0.0000,  0.0000,  0.0000,  0.0000],\n",
      "        [ 0.0000,  0.0000,  0.0000,  0.0000,  0.0000],\n",
      "        [ 0.0000,  0.0000,  0.0000,  0.0000,  0.0000],\n",
      "        [ 0.0000,  0.0000,  0.0000,  0.0000,  0.0000]], device='cuda:0')\n",
      "\n",
      "( a[0]=-1 )\n",
      "a : tensor([-1.0000,  0.1000, -0.0100,  2.0000,  3.0000], device='cuda:0')\n",
      "x : tensor([[ 0.0000,  0.1000, -0.0100,  2.0000,  3.0000],\n",
      "        [ 0.0000,  0.0000,  0.0000,  0.0000,  0.0000],\n",
      "        [ 0.0000,  0.0000,  0.0000,  0.0000,  0.0000],\n",
      "        [ 0.0000,  0.0000,  0.0000,  0.0000,  0.0000],\n",
      "        [ 0.0000,  0.0000,  0.0000,  0.0000,  0.0000]], device='cuda:0')\n"
     ]
    }
   ],
   "source": [
    "x= torch.zeros(5,5).to(device)\n",
    "print('x :',x)\n",
    "\n",
    "a=torch.tensor([0 , .1, -.01, 2, 3]).to(device)\n",
    "print('a :',a)\n",
    "\n",
    "x[0,:] = a[:]\n",
    "print('\\n( x[0,:] = a[:] )\\nx :',x)\n",
    "\n",
    "a[0]=-1\n",
    "print('\\n( a[0]=-1 )\\na :',a)\n",
    "print('x :',x)\n"
   ]
  },
  {
   "cell_type": "code",
   "execution_count": null,
   "metadata": {},
   "outputs": [],
   "source": []
  },
  {
   "cell_type": "code",
   "execution_count": null,
   "metadata": {},
   "outputs": [],
   "source": [
    "#hide\n",
    "# run this as a last cell in your notebook to export this module\n",
    "from nbdev.export import *\n",
    "notebook2script()"
   ]
  },
  {
   "cell_type": "code",
   "execution_count": null,
   "metadata": {},
   "outputs": [],
   "source": []
  }
 ],
 "metadata": {
  "kernelspec": {
   "display_name": "Python 3",
   "language": "python",
   "name": "python3"
  }
 },
 "nbformat": 4,
 "nbformat_minor": 4
}
