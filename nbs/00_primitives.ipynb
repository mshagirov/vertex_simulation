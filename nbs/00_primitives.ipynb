{
 "cells": [
  {
   "cell_type": "code",
   "execution_count": null,
   "metadata": {},
   "outputs": [],
   "source": [
    "# default_exp primitives"
   ]
  },
  {
   "cell_type": "code",
   "execution_count": null,
   "metadata": {},
   "outputs": [],
   "source": [
    "#hide\n",
    "#For running in JupyterHub:\n",
    "import os\n",
    "if os.path.basename(os.getcwd())!='nbs':\n",
    "    homedir = os.path.expanduser(\"~\")\n",
    "    lib_path = os.path.join(homedir,'images','codesDIR/vertex_simulation/nbs')\n",
    "    os.chdir(lib_path)"
   ]
  },
  {
   "cell_type": "markdown",
   "metadata": {},
   "source": [
    "# Primitives\n",
    "\n",
    "> Implementations for vertex, graph, and cell monolayer classes"
   ]
  },
  {
   "cell_type": "code",
   "execution_count": null,
   "metadata": {},
   "outputs": [],
   "source": [
    "#hide\n",
    "from nbdev.showdoc import *\n",
    "\n",
    "# For running in JupyterHub\n",
    "\n",
    "# import os\n",
    "# homedir = os.path.expanduser(\"~\")\n",
    "# lib_path = os.path.join(homedir,'images','codesDIR/vertex_simulation')\n",
    "# os.chdir(lib_path)\n",
    "# !pwd"
   ]
  },
  {
   "cell_type": "markdown",
   "metadata": {},
   "source": [
    "- Graph primitives:\n",
    "    - `Vertex`: implements a vertex object. Stores position of a given vertex (or vertices) as `1x2` `torch.tensor`, and implements methods for interacting with `torch` autograd. Compatible with D-dimensional `NxD` `torch.tensor`.\n",
    "    - `Graph`: implements graph object. Stores vertices (`Vertex` object with `NxD` `torch.tensor`), edges (`Nx2` integer array of vertex indices) connecting the vertices, and implements methods for interacting with `torch` autograd.\n",
    "- Cell monolayer representations: \n",
    "    - `Monolayer`: Implements cell monolayer, such as (2-dimensional) apical plane of an epithelial tissue. Inherits from `Graph` class. [__needs docs__]\n",
    "        - `Graph` and `Monolayer` have \"to\", and \"device\" methods.\n",
    "- to-do:\n",
    "    - extend `VoronoiRegions2Edges` to add out-of-diagram vertices as boundary vertices (or partial cells)\n",
    "    - need to add tranfer to GPU and back"
   ]
  },
  {
   "cell_type": "code",
   "execution_count": null,
   "metadata": {},
   "outputs": [],
   "source": [
    "#export\n",
    "import torch\n",
    "import numpy as np, matplotlib.pyplot as plt\n",
    "from scipy.spatial import Voronoi,voronoi_plot_2d"
   ]
  },
  {
   "cell_type": "markdown",
   "metadata": {},
   "source": [
    "## Helper functions for Graphs\n",
    "---"
   ]
  },
  {
   "cell_type": "code",
   "execution_count": null,
   "metadata": {},
   "outputs": [],
   "source": [
    "#export\n",
    "def plot_graph(Xv,edges,plot_arg=['g-','mo'],alphas=[.2,.5]):\n",
    "    '''A function for plotting simple graphs (slow for large graphs)\n",
    "    - `Xv`: vertex locations\n",
    "    - `edges`: graph edges as indices of the vertex pairs that form.\n",
    "    Nx2 array of integers (could be list of lists)\n",
    "    '''\n",
    "    for ij in edges:\n",
    "        plt.plot([Xv[ij[0],0], Xv[ij[1],0]], [Xv[ij[0],1], Xv[ij[1],1]],plot_arg[0],lw=2,alpha=alphas[0])\n",
    "    plt.plot(Xv[:,0],Xv[:,1],plot_arg[-1],ms=10,alpha=alphas[-1])\n",
    "    plt.axis('equal')\n",
    "    plt.axis(False);"
   ]
  },
  {
   "cell_type": "code",
   "execution_count": null,
   "metadata": {},
   "outputs": [],
   "source": [
    "#export\n",
    "def plot_graph_as_quiver(g,quiver_kwargs = {'units':'xy','angles':'xy',\n",
    "                                            'scale_units':'xy','scale':1.0,\n",
    "                                            'headwidth':0,'headlength':0,\n",
    "                                            'width':.05,'color':'g'},return_Q=False):\n",
    "    '''Plot `Graph` or `Monolayer` object edges.'''\n",
    "    edge_dirs = g.direction().detach().cpu()\n",
    "    vx = g.vertices.x.detach().cpu()\n",
    "    # vertices with edges:\n",
    "    Q=plt.quiver(vx[g.edges[:,0],0],vx[g.edges[:,0],1],\n",
    "                 edge_dirs[:,0],edge_dirs[:,1],**quiver_kwargs)\n",
    "    plt.axis(False);\n",
    "    if return_Q:\n",
    "        return Q"
   ]
  },
  {
   "cell_type": "code",
   "execution_count": null,
   "metadata": {},
   "outputs": [],
   "source": [
    "#export\n",
    "import networkx as nx\n",
    "def graph2networkx_with_pos(g):\n",
    "    '''Convert `Graph` or `Monolayer` object toReturn `network` graph '''\n",
    "    G = nx.Graph(g.edges.tolist())\n",
    "    pos=dict(zip(range(g.vertices.x.shape[0]),g.vertices.x.detach().cpu().numpy()))\n",
    "    return G, pos"
   ]
  },
  {
   "cell_type": "markdown",
   "metadata": {},
   "source": [
    "## Helper functions for Monolayer\n",
    "---"
   ]
  },
  {
   "cell_type": "code",
   "execution_count": null,
   "metadata": {},
   "outputs": [],
   "source": [
    "#export\n",
    "def is_in_edges_(e,edge_list):\n",
    "        '''Returns edge index in the list, \"-\" means in reversed order, False if not found. \n",
    "        Used by `VoronoiRegions2Edges`\n",
    "        '''\n",
    "        if (e in edge_list):\n",
    "            return edge_list.index(e)+1\n",
    "        elif ((e[1],e[0]) in edge_list):\n",
    "            return -(1+edge_list.index((e[1],e[0])))\n",
    "        else:\n",
    "            return False"
   ]
  },
  {
   "cell_type": "markdown",
   "metadata": {},
   "source": [
    "Slowest part of `VoronoiRegions2Edges` is checking whether the edge is in the list of edges, `is_in_edges_()` function. In `is_in_edges_` most of the time is spent for the `if, elif` conditionals (using `np` binary indexing in `is_in_edges_` didn't speed up finding regions, actually it slowed it down), need to change how `VoronoiRegions2Edges` works in particular adding edges to list (or need to even avoid it)."
   ]
  },
  {
   "cell_type": "code",
   "execution_count": null,
   "metadata": {},
   "outputs": [],
   "source": [
    "#export\n",
    "def VoronoiRegions2Edges(regions):\n",
    "    '''Converts Voronoi region vertex indices, like the one obtained from `scipy.spatial.Voronoi`, \n",
    "    to a list of (*undirected*) edges (indices of vertex pairs).\n",
    "    \n",
    "    Edges [i,j] and [j,i] are considered to be the same edge, and stored as one of these \n",
    "    representations e.g. [j,i], but not both (i.e. no duplicate edges). Note that edge indexing in\n",
    "    `cells` starts from 1 (not 0!). Thus, when reading cell edges from `edge_list` you need to \n",
    "    substract 1 from (absolute value of) these indices.\n",
    "    \n",
    "    Usage:\n",
    "    - `edge_list,cells = VoronoiRegions2Edges(vrn_regions)`\n",
    "    \n",
    "    Arg-s:\n",
    "    - `regions` is a list of lists, empty regions, or regions with out-of-diagram vertices (\"-1\") are ignored\n",
    "    \n",
    "    Returns:\n",
    "    - `edge_list` : list of edges of an undirected graph.\n",
    "    - `cells`: dictionary of cells (Voronoi regions), keys: cell numbers, values: list of \n",
    "    **edge indices starting from 1**. Negative indices indicate reversed order for vertices \n",
    "    (together these edges form a closed region--a cell). Use `np.sign(cells[c])` to find reversed edges.\n",
    "    '''\n",
    "    edge_list = []\n",
    "    cells = {}\n",
    "    cell_k = 0\n",
    "    regions = [r for r in regions if not (len(r)==0 or (-1 in r ))]\n",
    "    for r in regions:\n",
    "#         if len(r)==0 or (-1 in r ):\n",
    "#             continue # ignore empty regions or those with vertex index -1\n",
    "        cells[cell_k] = []\n",
    "        for e in zip(r[-1:]+r[:-1],r):\n",
    "            edge_idx = is_in_edges_(e,edge_list)\n",
    "            if edge_idx:\n",
    "                cells[cell_k].append(edge_idx)\n",
    "            else:\n",
    "                cells[cell_k].append(len(edge_list)+1)\n",
    "                edge_list.append(e)\n",
    "        cell_k+=1\n",
    "    return edge_list,cells"
   ]
  },
  {
   "cell_type": "code",
   "execution_count": null,
   "metadata": {},
   "outputs": [],
   "source": [
    "#hide\n",
    "# %load_ext line_profiler\n",
    "# v_x,regions =unit_hexagons(5,7)\n",
    "# %lprun -f is_in_edges_ VoronoiRegions2Edges(regions)"
   ]
  },
  {
   "cell_type": "markdown",
   "metadata": {},
   "source": [
    "## Graph primitives"
   ]
  },
  {
   "cell_type": "code",
   "execution_count": null,
   "metadata": {},
   "outputs": [],
   "source": [
    "#export\n",
    "class Vertex(object):\n",
    "    '''Implements vertex and stores vertex position(s) as Nx2 (or any 2-D tensor) `torch.Tensor`:(x,y,...)'s.\n",
    "    Rows represent points, columns the spatial dimensions, i.e. `[[x1,y1], [x2,y2], ...,[xN,yN]]`\n",
    "    \n",
    "    - Methods:\n",
    "        - `dist(self,other)` : calculates Euclidean distance between two points (each row).\n",
    "        - `zero_grad_(self)` : set all gradients to zero (used during gradient descent at each iter-n step).\n",
    "        - `grad(self)` : get gradient w.r.t. each tensor in `self.x`\n",
    "        - `requires_grad_(self,val)`: sets `torch.tensor` flag inplace\n",
    "        - `requires_grad(self)`: returns `torch.tensor` flag\n",
    "    - Properties :\n",
    "        - `x` : use it to set/get location torch.tensor (returns or modifies self.x) [<a name=\"Vertex.x\">Vertex.x</a>]\n",
    "    '''\n",
    "    def __init__(self,location=None,**kwargs):\n",
    "        '''`location` must be a 2D `torch.tensor` w/ float dtype (or a compatible list of lists,\n",
    "        and numpy.ndarray). Set and get `location` with `self.x` property.\n",
    "        \n",
    "        Important note on setting `requires_grad` flag. If the given `location` is a `numpy.ndarray` \n",
    "        keyword arg-s are ingnored (uses `torch.from_numpy()`). In such cases, use `self.requires_grad_(True)`\n",
    "        after the initialization to set the flag inplace.\n",
    "        \n",
    "        Usage:\n",
    "        `v = Vertex(torch.tensor([[3.,-1.]],requires_grad=True,dtype=torch.float64))`\n",
    "        '''\n",
    "        if location is not None:\n",
    "            if type(location) is list:\n",
    "                location = torch.tensor(location,**kwargs)\n",
    "            elif type(location) is np.ndarray:\n",
    "                location = torch.from_numpy(location)\n",
    "            assert location.ndim==2, f\"Input 'location' has wrong dimensions, location.ndim!=2 :'( \"\n",
    "        self._x=location\n",
    "    \n",
    "    def dist(self,other):\n",
    "        ''' Calculate (Euclidean) distance to another vertex from self._x.'''\n",
    "        return torch.norm(other.x - self._x,dim=1,p=2,keepdim=True)\n",
    "    \n",
    "    def zero_grad_(self):\n",
    "        '''set gradients to zero if x.requires_grad==True'''\n",
    "        if self._x.grad is not None:\n",
    "            self._x.grad.data.zero_()\n",
    "    \n",
    "    def grad(self):\n",
    "        '''Get accumulated gradients w.r.t. x (calculated with backprop; `torch.autograd`)'''\n",
    "        return self._x.grad\n",
    "    \n",
    "    def requires_grad_(self,val):\n",
    "        '''Access to `torch.tensor` method to change `requires_grad` status'''\n",
    "        self._x.requires_grad_(val)\n",
    "        \n",
    "    def requires_grad(self):\n",
    "        '''Access to `torch.tensor` method to view `requires_grad` status'''\n",
    "        return self._x.requires_grad\n",
    "    \n",
    "    def device(self):\n",
    "        \"\"\"Returns torch tensor's device\"\"\"\n",
    "        return self.x.device\n",
    "    def to_(self,val):\n",
    "        \"\"\"Change torch tensor's device\"\"\"\n",
    "        self._x = self.x.detach().to(val).requires_grad_(self.requires_grad())\n",
    "    \n",
    "    def dtype(self):\n",
    "        \"\"\"Returns torch tensor's dtype\"\"\"\n",
    "        return self.x.dtype\n",
    "    \n",
    "    @property\n",
    "    def x(self):\n",
    "        return self._x\n",
    "    @x.setter\n",
    "    def x(self, val):\n",
    "        self._x = val\n",
    "    \n",
    "    def __str__(self):\n",
    "        return f\"{self._x}\"\n",
    "    def __repr__(self):\n",
    "        return f\"Vertex {self._x}; dtype:{self._x.dtype}\"\n",
    "    "
   ]
  },
  {
   "cell_type": "markdown",
   "metadata": {},
   "source": [
    "---\n",
    "Define vertices with Nx2 (or NxD in general, N:number of vertices, D: number of spatial dimesions) torch tensors:"
   ]
  },
  {
   "cell_type": "code",
   "execution_count": null,
   "metadata": {},
   "outputs": [
    {
     "name": "stdout",
     "output_type": "stream",
     "text": [
      "v1: cpu\n",
      " o : cpu\n",
      "CUDA devices found: 1\n",
      " v1: cuda:0\n",
      " o : cuda:0\n",
      "Distance between two vertices (o <--> v1) : 1.4142135381698608\n"
     ]
    }
   ],
   "source": [
    "# initialise and then set vertex location \n",
    "o=Vertex()\n",
    "o.x=torch.tensor([0.,0.], dtype=torch.float32)\n",
    "\n",
    "# or with location at init-n\n",
    "v1=Vertex([[1.,1.]],dtype=torch.float32)\n",
    "\n",
    "# you can transfer \"v1\" and \"o\" to GPU\n",
    "print(f'v1: {v1.device()}\\n',f'o : {o.device()}')\n",
    "if torch.cuda.device_count():\n",
    "    v1.to_('cuda')\n",
    "    o.to_(v1.device())\n",
    "print(f'CUDA devices found: {torch.cuda.device_count()}\\n',\n",
    "      f'v1: {v1.device()}\\n',f'o : {o.device()}')\n",
    "\n",
    "# calculate distance between vertices\n",
    "r = o.dist(v1)\n",
    "print(f\"Distance between two vertices (o <--> v1) : {r.squeeze()}\")"
   ]
  },
  {
   "cell_type": "markdown",
   "metadata": {},
   "source": [
    "---"
   ]
  },
  {
   "cell_type": "code",
   "execution_count": null,
   "metadata": {},
   "outputs": [],
   "source": [
    "#export\n",
    "class Graph(object):\n",
    "    '''Implements graph object. Stores vertices and edges. \n",
    "    - Methods:\n",
    "        - `length(self)` : calculates (Euclidean) edge lengths for each edge in the graph.\n",
    "        - `direction(self)`: calculates edge vectors (`second_vertex - first_vertex` positions)\n",
    "        - `get_vertex_grad(self)`: returns accumulated gradients w.r.t. to vertex positions.\n",
    "        - `set_zero_grad_(self)`: sets gradients w.r.t. to vertex positions to zeros.\n",
    "    - Properties :\n",
    "        - `vertices` : variable vertices represented by `Vertex` object (needs autograd).\n",
    "        - `edges` : edges connecting vertices.Nx2 array of integers (vertex indices).\n",
    "        Can be any `torch.tensor` compatible array with `tolist()` method (doesn't need autograd).\n",
    "        - `fixed`: [__not yet implemented__] stores information about constant/fixed vertices (for setting boundary).\n",
    "        Provided for convenience, turn off gradient calculation separately from \"variable\" vertices to keep them constant.\n",
    "        '''\n",
    "    def __init__(self,vertices=None, edges=None, fixed=None):\n",
    "        '''Init-n function for `Graph` objects. Stores vertices and edges.\n",
    "        \n",
    "        Usage:\n",
    "            `g = Graph(edges=torch.tensor([[0,1],[1,2],[2,0]]), vertices=Vertex(torch.tensor([[1,1],[0,-1],[-1,0]]))`\n",
    "        ''' \n",
    "        self._vertices = vertices\n",
    "        self._edges = edges\n",
    "        self._fixed= fixed\n",
    "    \n",
    "    def length(self):\n",
    "        ''' Calculates all edge lengths in the graph.\n",
    "        Lengths--(Euclidean) distances between vertex pairs connected with edges.\n",
    "        Order of the lengths is same as the order of the edges, i.e. i'th result corresponds to i'th edge.\n",
    "        '''\n",
    "        return torch.norm(self.vertices.x[self.edges[:,1],:] - self.vertices.x[self.edges[:,0],:],\n",
    "                          dim=1,p=2,keepdim=True)\n",
    "        \n",
    "    def direction(self):\n",
    "        '''Calculates edge vector (direction) from first vertex to its pair connected with an edge.'''\n",
    "        return self.vertices.x[self.edges[:,1],:] - self.vertices.x[self.edges[:,0],:]\n",
    "    \n",
    "    def get_vertex_grad(self):\n",
    "        '''Get accumulated gradients w.r.t. vertex positions (`self.vertices.x`) (calculated with backprop; `torch.autograd`)'''\n",
    "        return self.vertices.grad()\n",
    "    \n",
    "    def set_zero_grad_(self):\n",
    "        '''Set gradients to zero if `requires_grad` is set to `True` for variable vertices. Uses `vertices.zero_grad_()`'''\n",
    "        self.vertices.zero_grad_()\n",
    "        \n",
    "    def device(self):\n",
    "        '''Return Vertex and Edge tensor devices as dict.'''\n",
    "        return {'vertices':self.vertices.device(), 'edges':self.edges.device}\n",
    "    def to_(self,val):\n",
    "        '''Set Vertex and Edge (vertes IDs) devices to \"val\"'''\n",
    "        self.vertices.to_(val)\n",
    "        self.edges = self.edges.to(val)\n",
    "        \n",
    "    @property\n",
    "    def edges(self):\n",
    "        return self._edges\n",
    "    @edges.setter\n",
    "    def edges(self,val):\n",
    "        self._edges = val\n",
    "    \n",
    "    @property\n",
    "    def vertices(self):\n",
    "        return self._vertices\n",
    "    @vertices.setter\n",
    "    def vertices(self, val):\n",
    "        self._vertices = val\n",
    "    \n",
    "    @property\n",
    "    def fixed(self):\n",
    "        return self._fixed\n",
    "    @fixed.setter\n",
    "    def fixed(self, val):\n",
    "        self._fixed = val\n",
    "    \n",
    "    def __str__(self):\n",
    "        if (self.edges is None) or (self.vertices is None):\n",
    "            return f\"Graph: edges {self._edges}; vertices {self.vertices}\"\n",
    "        dtype_edges = self.edges.dtype\n",
    "        dtype_verts = self.vertices.dtype()\n",
    "        return f\"Graph\\nedges {self._edges} {dtype_edges};\\nvertices {self.vertices} {dtype_verts}\"\n",
    "    def __repr__(self):\n",
    "        n_edges = self.edges if self.edges is None else self.edges.size(0)\n",
    "        n_verts = self.vertices if self.vertices is None else self.vertices.x.size(0)\n",
    "        return f\"Graph: {n_edges} edges; {n_verts} vertices\"\n",
    "    "
   ]
  },
  {
   "cell_type": "markdown",
   "metadata": {},
   "source": [
    "---"
   ]
  },
  {
   "cell_type": "markdown",
   "metadata": {},
   "source": [
    "When initializing `Graph` objects provide vertices (as `Vertex` object) and edges (connected vertex indices) at initialization, or set it later with `self.vertices` and `self.edges` property setters."
   ]
  },
  {
   "cell_type": "code",
   "execution_count": null,
   "metadata": {},
   "outputs": [
    {
     "data": {
      "image/png": "[encoded data removed]",
      "text/plain": [
       "<Figure size 144x144 with 1 Axes>"
      ]
     },
     "metadata": {
      "needs_background": "light"
     },
     "output_type": "display_data"
    }
   ],
   "source": [
    "g = Graph(vertices = Vertex([[1,1],[0,-1],[-1,0]], dtype=torch.float64, requires_grad=True),\n",
    "          edges = torch.tensor([[0,1],[1,2],[2,0]]) )\n",
    "\n",
    "# Plot vertex positions\n",
    "plt.figure(figsize=[2,2])\n",
    "plt.plot(g.vertices.x.detach()[:,0], g.vertices.x.detach()[:,1],'ro',ms=15,alpha=.25);# this plots all vertices\n",
    "# plot directed edges to check them, to calculate direction use `direction()` function in Graph object\n",
    "quiver_kwargs = {'units':'xy','angles':'xy','scale_units':'xy',\n",
    "                 'scale':1.0,'headwidth':3,'headlength':4,'width':.07}\n",
    "plot_graph_as_quiver(g,quiver_kwargs=quiver_kwargs) #plot edges with directions\n",
    "plt.axis([-1.5,1.5,-1.5,1.5]);plt.axis(True)\n",
    "plt.show()"
   ]
  },
  {
   "cell_type": "markdown",
   "metadata": {},
   "source": [
    "Use `device()` and `to_()` to check device and move `Graph` tensors (vertices and edges) to GPU"
   ]
  },
  {
   "cell_type": "code",
   "execution_count": null,
   "metadata": {},
   "outputs": [
    {
     "name": "stdout",
     "output_type": "stream",
     "text": [
      "{'vertices': device(type='cpu'), 'edges': device(type='cpu')}\n",
      "{'vertices': device(type='cuda', index=0), 'edges': device(type='cuda', index=0)}\n"
     ]
    }
   ],
   "source": [
    "print(g.device())\n",
    "if torch.cuda.device_count():\n",
    "    g.to_('cuda')\n",
    "    print(g.device())"
   ]
  },
  {
   "cell_type": "markdown",
   "metadata": {},
   "source": [
    "Evaluating functions that depend on vertex positions (edge Euclidean length, and direction functions are already implemented in `Graph` class)\n",
    "- Example below illustrates how to compute spatial gradient $\\frac{\\partial E}{\\partial x_i}$ for $E(\\{x_i\\})=\\sum_{edges}l_{ij}^2$ for vertices shown in the graph above. In a more general case, you can use vertex positions using `g.vertices.x` of a `Vertex` object, and check gradient tag with `g.vertices.requires_grad()` and enable gradient tracking inplace with `g.vertices.requires_grad_(True)`."
   ]
  },
  {
   "cell_type": "code",
   "execution_count": null,
   "metadata": {},
   "outputs": [
    {
     "name": "stdout",
     "output_type": "stream",
     "text": [
      "dEdx=[[6.0, 6.0], [0.0, -6.0], [-6.0, 0.0]]\n",
      "---\n",
      "after zeroing gradients\n",
      "dEdx=[[0.0, 0.0], [0.0, 0.0], [0.0, 0.0]]\n"
     ]
    }
   ],
   "source": [
    "# do something with vertex positions\n",
    "l = g.length() # edge lengths\n",
    "E = torch.sum(l**2) # some function that returns a scalar\n",
    "\n",
    "# compute gradients w.r.t. variables of E \n",
    "E.backward()\n",
    "\n",
    "# copying grad-s into dEdx as a list\n",
    "dEdx=g.get_vertex_grad().tolist()\n",
    "\n",
    "# reset gradients to zeros (useful for iterative calculations s.a. gradient descent)\n",
    "g.set_zero_grad_()\n",
    "dEdx_2=g.get_vertex_grad().tolist()\n",
    "print(f'dEdx={dEdx}\\n---\\nafter zeroing gradients\\ndEdx={dEdx_2}')"
   ]
  },
  {
   "cell_type": "markdown",
   "metadata": {},
   "source": [
    "## Cell monolayer representations"
   ]
  },
  {
   "cell_type": "code",
   "execution_count": null,
   "metadata": {},
   "outputs": [],
   "source": [
    "#export\n",
    "class Monolayer(Graph):\n",
    "    '''Implements 2-dimensional cell monolayer (apical plane) represented by vertices and edges.\n",
    "    \n",
    "    `Monolayer` inherits *all methods, and properties* of `Graph`\n",
    "    \n",
    "    - Methods:\n",
    "        - `perimeter(self)` : calculates cell perimeters. Returns `torch.tensor`.\n",
    "        - `area(self)` : calculates cell areas (2-d polygons). Returns `torch.tensor`.\n",
    "        [<a name=\"Monolayer.area\">Monolayer.area</a>]\n",
    "    - Properties:\n",
    "        - `cells` : dictionary of lists, with cell numbers (keys) and list of \n",
    "    **edge indices starting from 1** (values). Negative indices indicate reversed order for vertices \n",
    "    (cell is defined as a closed region formed by edges connected end-to-end).\n",
    "    Use `np.sign(cells[c])` to find reversed edges for cell `c`.\n",
    "    '''\n",
    "    def __init__(self, vertices=None, edges=None, cells=None, fixed=None):\n",
    "        '''Usage:\n",
    "        - cells = Monolayer(edges=torch.tensor([[0,1],[1,2],[2,0]]), vertices=Vertex([[1.,1.],[0.,-1.],[-1.,0.]]))\n",
    "        '''\n",
    "        super().__init__(vertices=vertices, edges=edges, fixed=fixed)\n",
    "        \n",
    "        # cells must be a dict (keys:cell#,values:edge indices w/ negative indices for reverced edge direction)\n",
    "        self._cells = cells \n",
    "        \n",
    "    def perimeter(self):\n",
    "        '''Calculates perimeters of the cells'''\n",
    "        if (self.cells is None) or len(self.cells)==0:\n",
    "            return torch.zeros((1,))\n",
    "        Perims = []\n",
    "        for c in self.cells:\n",
    "            c_edges = self.edges[np.abs(self.cells[c])-1,:]\n",
    "            Perims.append(torch.sum(torch.norm(\n",
    "                self.vertices.x[c_edges[:,1],:] - self.vertices.x[c_edges[:,0],:],\n",
    "                dim=1,p=2,keepdim=True),0,keepdim=True))\n",
    "        return torch.cat(Perims,dim=0)\n",
    "    \n",
    "    def area(self):\n",
    "        '''Calculates areas of the cells. Defined only for simple 2D polygons (\"shoelace formula\")'''\n",
    "        if (self.cells is None) or len(self.cells)==0:\n",
    "            return torch.zeros((1,))\n",
    "        Areas = []\n",
    "        for c in self.cells:\n",
    "            # compute area of each cell\n",
    "            c_edges = self.edges[np.abs(self.cells[c])-1,:]\n",
    "            if np.any(np.sign(self.cells[c])<0):\n",
    "                # reverse vertex order for negative edges\n",
    "                tmp = c_edges[np.sign(self.cells[c])<0,:]\n",
    "                c_edges[np.sign(self.cells[c])<0,0]=tmp[:,1]\n",
    "                c_edges[np.sign(self.cells[c])<0,1]=tmp[:,0]\n",
    "            xy = self.vertices.x[c_edges[:,0],:]\n",
    "            Areas.append(torch.abs( \n",
    "                torch.sum(xy[:-1,0]*xy[1:,1],0,keepdim=True) + xy[-1,0]*xy[0,1]\n",
    "                -torch.sum(xy[1:,0]*xy[:-1,1],0,keepdim=True) - xy[0,0]*xy[-1,1] )/2 )\n",
    "            \n",
    "        return torch.cat(Areas,dim=0)\n",
    "    \n",
    "    @property\n",
    "    def cells(self):\n",
    "        return self._cells\n",
    "    @cells.setter\n",
    "    def cells(self, val):\n",
    "        self._cells = val\n",
    "    \n",
    "    def __str__(self):\n",
    "        n_cells = self.cells if self.cells is None else len(self.cells)\n",
    "        return f\"Monolayer {n_cells} cells\\n{self.cells};\\n{super().__str__()}\"\n",
    "    def __repr__(self):\n",
    "        n_cells = self.cells if self.cells is None else len(self.cells)\n",
    "        return f\"Monolayer {n_cells} cells, {super().__repr__()}\""
   ]
  },
  {
   "cell_type": "markdown",
   "metadata": {},
   "source": [
    "---"
   ]
  },
  {
   "cell_type": "markdown",
   "metadata": {},
   "source": [
    "* `Monolayer` assumes that cells are 2D *simple polygons*. For a *simple polygon* with $n$ sides, `Monolayer.area` implements a [*shoelace formula*](https://en.wikipedia.org/wiki/Shoelace_formula):\n",
    "$$A_{polygon} = \\frac{1}{2}\\left|{\\sum^{n-1}_{i=1}x_{i}y_{i+1} + x_ny_1 - \\sum^{n-1}_{i=1}x_{i+1}y_{i} - x_1 y_n}\\right|$$\n",
    "$$ = \\frac{1}{2}\\left|x_1y_2+x_2y_3+\\dots+x_{n-1}y_n +x_ny_1 - x_2y_1-x_3y_2-\\dots-x_ny_{n-1}-x_1y_n\\right|$$"
   ]
  },
  {
   "cell_type": "markdown",
   "metadata": {},
   "source": [
    "* You can use `Graph` functions `to_()` and `device()` to move tensors to GPU and check tensor's device"
   ]
  },
  {
   "cell_type": "code",
   "execution_count": null,
   "metadata": {},
   "outputs": [
    {
     "name": "stdout",
     "output_type": "stream",
     "text": [
      "m is on : {'vertices': device(type='cpu'), 'edges': device(type='cpu')}\n",
      "Perimeter= tensor([[3.4142]]) ; Area= tensor([0.5000])\n"
     ]
    },
    {
     "data": {
      "image/png": "[encoded data removed]",
      "text/plain": [
       "<Figure size 72x72 with 1 Axes>"
      ]
     },
     "metadata": {
      "needs_background": "light"
     },
     "output_type": "display_data"
    }
   ],
   "source": [
    "# triangle shaped cell:\n",
    "v = Vertex([[-.5,-.1],[-.5,.9],[.5,-.1]])\n",
    "edges = torch.tensor([[0,1],[1,2],[2,0]])\n",
    "tri_cells = {0:[1,2,3]}\n",
    "m = Monolayer(vertices=v,edges=edges,cells=tri_cells)\n",
    "print('m is on :', m.device())\n",
    "print('Perimeter=',m.perimeter(),'; Area=',m.area())\n",
    "\n",
    "# plot monolayer graph\n",
    "plt.figure(figsize=[1,1])\n",
    "plot_graph_as_quiver(m)\n",
    "plt.plot(m.vertices.x[:,0],m.vertices.x[:,1],'mo',alpha=.5);"
   ]
  },
  {
   "cell_type": "markdown",
   "metadata": {},
   "source": [
    "Note that we need to remember to copy tensors to CPU (and detach from the Pytorch's computational graph) to be able to use `matplotlib`"
   ]
  },
  {
   "cell_type": "code",
   "execution_count": null,
   "metadata": {},
   "outputs": [
    {
     "name": "stdout",
     "output_type": "stream",
     "text": [
      "m is on : {'vertices': device(type='cuda', index=0), 'edges': device(type='cuda', index=0)}\n",
      "Perimeter= tensor([[3.4142]], device='cuda:0') ; Area= tensor([0.5000], device='cuda:0')\n"
     ]
    },
    {
     "data": {
      "image/png": "[encoded data removed]",
      "text/plain": [
       "<Figure size 72x72 with 1 Axes>"
      ]
     },
     "metadata": {
      "needs_background": "light"
     },
     "output_type": "display_data"
    }
   ],
   "source": [
    "# Now let's do the same computation on GPU (if available)\n",
    "if torch.cuda.device_count():\n",
    "    m.to_('cuda')\n",
    "    print('m is on :', m.device())\n",
    "    print('Perimeter=',m.perimeter(),'; Area=',m.area())\n",
    "\n",
    "    # plot monolayer graph\n",
    "    plt.figure(figsize=[1,1])\n",
    "    plot_graph_as_quiver(m)\n",
    "    plt.plot(m.vertices.x[:,0].cpu(),m.vertices.x[:,1].cpu(),'mo',alpha=.5);"
   ]
  },
  {
   "cell_type": "code",
   "execution_count": null,
   "metadata": {},
   "outputs": [],
   "source": [
    "v_seeds=np.array([[np.sqrt(3)/2,5.5], [1.5*np.sqrt(3),5.5], [0.,4.],\n",
    "                  [np.sqrt(3),4.],[2*np.sqrt(3),4.],[-np.sqrt(3)/2,2.5],\n",
    "                  [np.sqrt(3)/2,2.5],[1.5*np.sqrt(3),2.5],[2.5*np.sqrt(3),2.5],\n",
    "                  [0.,1.],[2*np.sqrt(3),1.], [np.sqrt(3),1.]])\n",
    "\n",
    "vrn = Voronoi(v_seeds)\n",
    "edge_list,hex_cells = VoronoiRegions2Edges(vrn.regions) # convert regions to edges and cells"
   ]
  },
  {
   "cell_type": "code",
   "execution_count": null,
   "metadata": {},
   "outputs": [
    {
     "name": "stdout",
     "output_type": "stream",
     "text": [
      "Perimeter= tensor([6.0000, 6.0000, 6.0000], dtype=torch.float64) ;\n",
      "Area= tensor([2.5981, 2.5981, 2.5981], dtype=torch.float64)\n"
     ]
    },
    {
     "data": {
      "image/png": "[encoded data removed]",
      "text/plain": [
       "<Figure size 216x216 with 1 Axes>"
      ]
     },
     "metadata": {
      "needs_background": "light"
     },
     "output_type": "display_data"
    }
   ],
   "source": [
    "verts = Vertex(vrn.vertices)\n",
    "edges = torch.tensor(edge_list)\n",
    "\n",
    "cell_graph = Monolayer(vertices=Vertex(vrn.vertices.copy()), edges=edges, cells=hex_cells)\n",
    "# cell_graph.vertices.requires_grad_(True) #<-- use for enabling gradient calculations\n",
    "print('Perimeter=',cell_graph.perimeter().squeeze(),';\\nArea=',cell_graph.area())\n",
    "# plot monolayer graph\n",
    "plt.figure(figsize=[3,3])\n",
    "plot_graph_as_quiver(cell_graph)\n",
    "plt.plot(cell_graph.vertices.x[:,0],cell_graph.vertices.x[:,1],'mo',alpha=.5);"
   ]
  },
  {
   "cell_type": "markdown",
   "metadata": {},
   "source": [
    "## Lattice Generator and Helper functions"
   ]
  },
  {
   "cell_type": "code",
   "execution_count": null,
   "metadata": {},
   "outputs": [],
   "source": [
    "#export\n",
    "def mask2vrn_region(verts,vrn_regions,row_mask):\n",
    "    '''Apply mask to Voronoi regions and vertices and re-label them.\n",
    "    \n",
    "    In addition to the `row_mask` (for vertices), also removes empty regions\n",
    "    and regions with \"-1\" Voronoi vertices.\n",
    "    \n",
    "    Arg-s:\n",
    "    - `verts` : Voronoi vertex locations (`numpy` array).\n",
    "    - `vrn_regions`: Voronoi regions (\"cells\"). Empty regions and\n",
    "    out-of-diagram Voronoi regions with \"-1\" vertices are removed.\n",
    "    - `row_mask`: 1-d binary mask for `verts` rows.\n",
    "    \n",
    "    Returns:\n",
    "    - `v_x` : vertices after applying the mask (`=verts[row_mask,:]`)\n",
    "    - `regions`: re-labelled regions (with updated vertex indices) \n",
    "    '''\n",
    "    v_x = verts[row_mask,:]\n",
    "    idx_0    = np.arange(verts.shape[0])\n",
    "    idx_keep = idx_0[row_mask]\n",
    "    idx_new    = np.arange(idx_keep.shape[0])\n",
    "    # hexagon regions\n",
    "    regions = [[idx_new[idx_keep==v].item() for v in r] for r in vrn_regions\n",
    "               if len(r) and (-1 not in r) and np.all(row_mask[r])]\n",
    "    return v_x, regions"
   ]
  },
  {
   "cell_type": "code",
   "execution_count": null,
   "metadata": {},
   "outputs": [],
   "source": [
    "#export\n",
    "def unit_hex_seeds(Sx,Sy):\n",
    "    '''Produces seed locations for Voronoi such that Voronoi regions \n",
    "    form rectangle of hexagonal cells with unit side length (==1).\n",
    "    \n",
    "    Arg-s:\n",
    "    - `Sx`, `Sy`: width (x-axis) and height (y-axis) in cells (assumes that both $S_{x,y}>0$)\n",
    "    \n",
    "    Returns:\n",
    "    - `numpy` array with `Sx`x`Sy` rows and 2 columns.\n",
    "    '''\n",
    "    # for regular hexagons with unit length edges\n",
    "    dXY = [np.sqrt(3), 1.5] # original grid spacing\n",
    "    x_offset = np.sqrt(3)/2 # moves alter-g rows to the right (+ x-axis)\n",
    "    X,Y = np.meshgrid(np.linspace(0,(Sx-1)*dXY[0],Sx),np.linspace(0,(Sy-1)*dXY[1],Sy))\n",
    "    X[1::2,:]+=x_offset\n",
    "    return np.concatenate((X.ravel()[:,np.newaxis],Y.ravel()[:,np.newaxis]),axis=1)"
   ]
  },
  {
   "cell_type": "code",
   "execution_count": null,
   "metadata": {},
   "outputs": [],
   "source": [
    "# export\n",
    "def unit_hexagons(Ny,Nx):\n",
    "    '''Produces Ny rows-by-Nx columns of hexagons with unit length edges.\n",
    "    \n",
    "    Uses scipy.spatial.Voronoi, and unit_hex_seeds then trims\n",
    "    non-hexagon edge cells and vertices.\n",
    "    \n",
    "    Returns:\n",
    "    - `v_x`: vertex locations, Mx2 `numpy` array (M number of vertices)\n",
    "    - `regions`: cell vertices (Voronoi regions; list of lists)\n",
    "    '''\n",
    "    def hex_mask_(verts,Nx,l_tol = 0.0001):\n",
    "        '''Mask for vertices forming closed hexagons'''\n",
    "        # mask for removing vertices pentagon region tips (left and right sides)\n",
    "        mask_hex = np.logical_and(verts[:,0]>0, verts[:,0]<(Nx+1.5)*np.sqrt(3))\n",
    "        v_x = verts[mask_hex,:]\n",
    "        # remove corner vertices (not forming hexagons)\n",
    "        Xmin =(1.+l_tol)*v_x.min(axis=0)\n",
    "        Xmax =(1.-l_tol)*v_x.max(axis=0)\n",
    "        left_btm = np.logical_not(np.logical_and(verts[:,0]<Xmin[0],verts[:,1]<Xmin[1]))\n",
    "        left_top = np.logical_not(np.logical_and(verts[:,0]<Xmin[0],verts[:,1]>Xmax[1]))\n",
    "        rght_top = np.logical_not(np.logical_and(verts[:,0]>Xmax[0],verts[:,1]>Xmax[1]))\n",
    "        mask_cor = np.logical_and(np.logical_and(left_btm,left_top),rght_top)\n",
    "        # full mask\n",
    "        return np.logical_and(mask_hex,mask_cor)\n",
    "    \n",
    "    Xseed = unit_hex_seeds(Nx+2,Ny+2)\n",
    "    vrn = Voronoi(Xseed)\n",
    "    vrn_mask = hex_mask_(vrn.vertices,Nx)\n",
    "    v_x,regions = mask2vrn_region(vrn.vertices,vrn.regions,vrn_mask)\n",
    "    return v_x,regions"
   ]
  },
  {
   "cell_type": "markdown",
   "metadata": {},
   "source": [
    "**Notes**:\n",
    "- `unit_hexagons` internally removes non-hexagon region vertices at the boundaries (left and right) produced by `scipy.spatial.Voronoi`\n",
    "- If you would like to keep these \"raw\" vertices, you can use `unit_hex_seeds` to seed `scipy.spatial.Voronoi` directly.\n",
    "---\n",
    "\n",
    "**Usage examples**:\n",
    "\n",
    "- Generate graph vertices arranged as a lattice of unit length hexagons"
   ]
  },
  {
   "cell_type": "code",
   "execution_count": null,
   "metadata": {},
   "outputs": [
    {
     "data": {
      "image/png": "[encoded data removed]",
      "text/plain": [
       "<Figure size 324x216 with 1 Axes>"
      ]
     },
     "metadata": {
      "needs_background": "light"
     },
     "output_type": "display_data"
    }
   ],
   "source": [
    "v_x,regions =unit_hexagons(5,7) # unit hexagon vertices\n",
    "edge_list,_ = VoronoiRegions2Edges(regions) #get list of edges\n",
    "\n",
    "# display the graph:\n",
    "plt.figure(figsize=[4.5,3])\n",
    "plot_graph_as_quiver(Graph(Vertex(v_x),torch.tensor(edge_list)))\n",
    "plt.plot(v_x[:,0],v_x[:,1],'mo',alpha=.3)\n",
    "plt.show()"
   ]
  },
  {
   "cell_type": "markdown",
   "metadata": {},
   "source": [
    "- Use these vertices and Voronoi regions to generate `Monolayer` objects,\n",
    "- you can use `VoronoiRegions2Edges` to convert Voronoi regions into an edge list and corresponding cells required for `Monolayer` initialization."
   ]
  },
  {
   "cell_type": "code",
   "execution_count": null,
   "metadata": {},
   "outputs": [
    {
     "data": {
      "image/png": "[encoded data removed]",
      "text/plain": [
       "<Figure size 216x216 with 1 Axes>"
      ]
     },
     "metadata": {
      "needs_background": "light"
     },
     "output_type": "display_data"
    }
   ],
   "source": [
    "v_x,regions =unit_hexagons(4,4)\n",
    "\n",
    "# add some noise\n",
    "np.random.seed(42) # RNG seed\n",
    "v_x += np.random.randn(v_x.shape[0], v_x.shape[1])*.2\n",
    "\n",
    "# get edges and cells (as a set of edges)\n",
    "edge_list,cells = VoronoiRegions2Edges(regions) \n",
    "\n",
    "# create a Monolayer object from the hexagonal cells\n",
    "cell_graph = Monolayer(vertices=Vertex(v_x.copy()),\n",
    "                       edges=torch.tensor(edge_list),\n",
    "                       cells=cells)\n",
    "\n",
    "figsize=[3,3]\n",
    "plt.figure(figsize=figsize)\n",
    "plot_graph_as_quiver(cell_graph)\n",
    "plt.plot(cell_graph.vertices.x[:,0].detach().cpu(),\n",
    "         cell_graph.vertices.x[:,1].detach().cpu(),'mo',ms=5,alpha=.5)\n",
    "plt.show()"
   ]
  },
  {
   "cell_type": "code",
   "execution_count": null,
   "metadata": {},
   "outputs": [
    {
     "name": "stdout",
     "output_type": "stream",
     "text": [
      "Converted 00_primitives.ipynb.\n",
      "Converted 01_simulation.ipynb.\n",
      "Converted index.ipynb.\n",
      "Converted vertex_dynamics_models.ipynb.\n"
     ]
    }
   ],
   "source": [
    "#hide\n",
    "# run this as a last cell in your notebook to export this module\n",
    "from nbdev.export import *\n",
    "notebook2script()"
   ]
  },
  {
   "cell_type": "code",
   "execution_count": null,
   "metadata": {},
   "outputs": [],
   "source": []
  }
 ],
 "metadata": {
  "kernelspec": {
   "display_name": "Python 3",
   "language": "python",
   "name": "python3"
  }
 },
 "nbformat": 4,
 "nbformat_minor": 4
}
