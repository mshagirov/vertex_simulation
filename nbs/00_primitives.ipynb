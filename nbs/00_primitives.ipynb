{
 "cells": [
  {
   "cell_type": "code",
   "execution_count": null,
   "metadata": {},
   "outputs": [],
   "source": [
    "# default_exp primitives"
   ]
  },
  {
   "cell_type": "markdown",
   "metadata": {},
   "source": [
    "# Primitives\n",
    "\n",
    "> Implementations for vertex, edges, cell(s), and cell monolayer"
   ]
  },
  {
   "cell_type": "code",
   "execution_count": null,
   "metadata": {},
   "outputs": [],
   "source": [
    "#hide\n",
    "from nbdev.showdoc import *"
   ]
  },
  {
   "cell_type": "markdown",
   "metadata": {},
   "source": [
    "- `vertex`: stores 2D position of a given vertex 1x2 numpy array. Should implement a method for distance calculation.\n",
    "- `edges`: (currently) adjacency matrix that represents connectivity of vertices\n",
    "- `cell` : a subset of vertices that represents a cell. Implements area, and perimeter calculations.\n",
    "- `monolayer`: stores cells, with their corresponding vertices, edges, and boundary conditions. Also should implement energy calculation together with its spatial gradient."
   ]
  },
  {
   "cell_type": "code",
   "execution_count": null,
   "metadata": {},
   "outputs": [],
   "source": [
    "#export\n",
    "import torch\n",
    "class Vertex(object):\n",
    "    '''Implements vertex and stores its position as a 1x2 `torch.Tensor`:(x,y).\n",
    "    \n",
    "    - Methods:\n",
    "        > `dist(self,other)`\n",
    "    - Properties :\n",
    "        > `x`\n",
    "    '''\n",
    "    def __init__(self,location=None):\n",
    "        '''access `location` with self.x '''\n",
    "        self._x=location\n",
    "    \n",
    "    def dist(self,other):\n",
    "        '''Calculate (Euclidean) distance to another vertex'''\n",
    "        return torch.sqrt(torch.sum(torch.pow(other.x - self._x,2)))\n",
    "    \n",
    "    @property\n",
    "    def x(self):\n",
    "        '''Get current location'''\n",
    "        return self._x\n",
    "    @x.setter\n",
    "    def x(self, val):\n",
    "        self._x = val\n",
    "    \n",
    "    def __str__(self):\n",
    "        return f\"{self._x.tolist()}\"\n",
    "    def __repr__(self):\n",
    "        return f\"{self._x};{self._x.dtype}\"\n",
    "    "
   ]
  },
  {
   "cell_type": "code",
   "execution_count": null,
   "metadata": {},
   "outputs": [
    {
     "name": "stdout",
     "output_type": "stream",
     "text": [
      "Distance between v1 and v2 : 2.0\n"
     ]
    }
   ],
   "source": [
    "v1=Vertex()\n",
    "v1.x=torch.tensor([-1.,1.])\n",
    "# or\n",
    "v2=Vertex(torch.tensor([1.,1.]))\n",
    "print(f\"Distance between v1 and v2 : {v1.dist(v2)}\")"
   ]
  },
  {
   "cell_type": "code",
   "execution_count": null,
   "metadata": {},
   "outputs": [],
   "source": [
    "#hide\n",
    "# run the cell below as a last cell in your notebook"
   ]
  },
  {
   "cell_type": "code",
   "execution_count": null,
   "metadata": {},
   "outputs": [
    {
     "name": "stdout",
     "output_type": "stream",
     "text": [
      "Converted 00_primitives.ipynb.\n",
      "Converted index.ipynb.\n"
     ]
    }
   ],
   "source": [
    "#hide\n",
    "from nbdev.export import *\n",
    "notebook2script()"
   ]
  },
  {
   "cell_type": "code",
   "execution_count": null,
   "metadata": {},
   "outputs": [],
   "source": []
  }
 ],
 "metadata": {
  "kernelspec": {
   "display_name": "Python [conda env:pytorch]",
   "language": "python",
   "name": "conda-env-pytorch-py"
  }
 },
 "nbformat": 4,
 "nbformat_minor": 2
}
