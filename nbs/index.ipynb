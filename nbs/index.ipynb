{
 "cells": [
  {
   "cell_type": "code",
   "execution_count": null,
   "metadata": {},
   "outputs": [],
   "source": [
    "#hide\n",
    "from vertex_simulation.primitives import *\n",
    "# after you modify this notebook use \"nbdev_build_docs\" to build the docs (and readme.md)\n",
    "# and nbdev_clean_nbs to remove notebook metadata before pushing it\n",
    "%load_ext autoreload\n",
    "%autoreload 2"
   ]
  },
  {
   "cell_type": "markdown",
   "metadata": {},
   "source": [
    "# Vertex Dynamics Simulation of Cell Monolayers\n",
    "\n",
    "> Vertex dynamics simulation for modelling epithelial tissue dynamics (package description)"
   ]
  },
  {
   "cell_type": "markdown",
   "metadata": {},
   "source": [
    "Modules:\n",
    "- `primitives`: implements vertices (w/ distance), edges, cells (w/ perimeter and area), and monolayer (with energy, boundary constraints, and other parameters)\n",
    "- `simulation`: iteration steps for simulating vertex dynamics"
   ]
  },
  {
   "cell_type": "markdown",
   "metadata": {},
   "source": [
    "## Install"
   ]
  },
  {
   "cell_type": "markdown",
   "metadata": {},
   "source": [
    "`pip install vertex_simulation` (not yet implemented)"
   ]
  },
  {
   "cell_type": "markdown",
   "metadata": {},
   "source": [
    "## How to use"
   ]
  },
  {
   "cell_type": "markdown",
   "metadata": {},
   "source": [
    "### Primitives"
   ]
  },
  {
   "cell_type": "markdown",
   "metadata": {},
   "source": [
    "Define `Vertex` object with its location or set it later with a given `torch.tensor`, location is stored as `Vertex.x` property:"
   ]
  },
  {
   "cell_type": "code",
   "execution_count": null,
   "metadata": {},
   "outputs": [
    {
     "name": "stdout",
     "output_type": "stream",
     "text": [
      "v1=[[1.0, 1.0]]\n",
      "v2=[[1.0, -1.0]]\n",
      "distance v1<-->v2 = 2.0\n"
     ]
    }
   ],
   "source": [
    "import torch\n",
    "# set location at init\n",
    "v1 = Vertex(location=torch.tensor([[1.,1.]],dtype=torch.float64))\n",
    "v2 = Vertex(location=[[1.,-1.]],dtype=torch.float64)\n",
    "# calculate distance between two vertices: v1 <--> v2\n",
    "r = v1.dist(v2)\n",
    "print(f\"v1={v1}\\nv2={v2}\\ndistance v1<-->v2 = {r.item()}\")"
   ]
  },
  {
   "cell_type": "markdown",
   "metadata": {},
   "source": [
    "**Work in progress:docs are not ready**"
   ]
  },
  {
   "cell_type": "code",
   "execution_count": null,
   "metadata": {},
   "outputs": [],
   "source": []
  }
 ],
 "metadata": {
  "kernelspec": {
   "display_name": "Python [conda env:pytorch]",
   "language": "python",
   "name": "conda-env-pytorch-py"
  }
 },
 "nbformat": 4,
 "nbformat_minor": 2
}
