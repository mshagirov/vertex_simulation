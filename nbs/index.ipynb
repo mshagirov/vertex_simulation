{
 "cells": [
  {
   "cell_type": "code",
   "execution_count": null,
   "metadata": {},
   "outputs": [
    {
     "ename": "AttributeError",
     "evalue": "module 'networkx' has no attribute 'utils'",
     "output_type": "error",
     "traceback": [
      "\u001b[0;31m---------------------------------------------------------------------------\u001b[0m",
      "\u001b[0;31mAttributeError\u001b[0m                            Traceback (most recent call last)",
      "\u001b[0;32m<ipython-input-3-fee8b1c2d72a>\u001b[0m in \u001b[0;36m<module>\u001b[0;34m\u001b[0m\n\u001b[1;32m      1\u001b[0m \u001b[0;31m#hide\u001b[0m\u001b[0;34m\u001b[0m\u001b[0;34m\u001b[0m\u001b[0;34m\u001b[0m\u001b[0m\n\u001b[0;32m----> 2\u001b[0;31m \u001b[0;32mfrom\u001b[0m \u001b[0mvertex_simulation\u001b[0m\u001b[0;34m.\u001b[0m\u001b[0mprimitives\u001b[0m \u001b[0;32mimport\u001b[0m \u001b[0;34m*\u001b[0m\u001b[0;34m\u001b[0m\u001b[0;34m\u001b[0m\u001b[0m\n\u001b[0m\u001b[1;32m      3\u001b[0m \u001b[0;32mfrom\u001b[0m \u001b[0mvertex_simulation\u001b[0m\u001b[0;34m.\u001b[0m\u001b[0msimulation\u001b[0m \u001b[0;32mimport\u001b[0m \u001b[0;34m*\u001b[0m\u001b[0;34m\u001b[0m\u001b[0;34m\u001b[0m\u001b[0m\n\u001b[1;32m      4\u001b[0m \u001b[0;32mimport\u001b[0m \u001b[0mtorch\u001b[0m\u001b[0;34m,\u001b[0m \u001b[0mnumpy\u001b[0m \u001b[0;32mas\u001b[0m \u001b[0mnp\u001b[0m\u001b[0;34m,\u001b[0m \u001b[0mmatplotlib\u001b[0m\u001b[0;34m.\u001b[0m\u001b[0mpylab\u001b[0m \u001b[0;32mas\u001b[0m \u001b[0mplt\u001b[0m\u001b[0;34m\u001b[0m\u001b[0;34m\u001b[0m\u001b[0m\n\u001b[1;32m      5\u001b[0m \u001b[0;32mfrom\u001b[0m \u001b[0mmpl_toolkits\u001b[0m\u001b[0;34m.\u001b[0m\u001b[0mmplot3d\u001b[0m \u001b[0;32mimport\u001b[0m \u001b[0maxes3d\u001b[0m\u001b[0;34m\u001b[0m\u001b[0;34m\u001b[0m\u001b[0m\n",
      "\u001b[0;32m/gpfs0/scratch/toyama/murat/codesDIR/vertex_simulation/nbs/vertex_simulation/primitives.py\u001b[0m in \u001b[0;36m<module>\u001b[0;34m\u001b[0m\n\u001b[1;32m     37\u001b[0m \u001b[0;34m\u001b[0m\u001b[0m\n\u001b[1;32m     38\u001b[0m \u001b[0;31m# Cell\u001b[0m\u001b[0;34m\u001b[0m\u001b[0;34m\u001b[0m\u001b[0;34m\u001b[0m\u001b[0m\n\u001b[0;32m---> 39\u001b[0;31m \u001b[0;32mimport\u001b[0m \u001b[0mnetworkx\u001b[0m \u001b[0;32mas\u001b[0m \u001b[0mnx\u001b[0m\u001b[0;34m\u001b[0m\u001b[0;34m\u001b[0m\u001b[0m\n\u001b[0m\u001b[1;32m     40\u001b[0m \u001b[0;32mdef\u001b[0m \u001b[0mgraph2networkx_with_pos\u001b[0m\u001b[0;34m(\u001b[0m\u001b[0mg\u001b[0m\u001b[0;34m)\u001b[0m\u001b[0;34m:\u001b[0m\u001b[0;34m\u001b[0m\u001b[0;34m\u001b[0m\u001b[0m\n\u001b[1;32m     41\u001b[0m     \u001b[0;34m'''Convert `Graph` or `Monolayer` object toReturn `network` graph '''\u001b[0m\u001b[0;34m\u001b[0m\u001b[0;34m\u001b[0m\u001b[0m\n",
      "\u001b[0;32m~/miniconda3/envs/pytorch/lib/python3.7/site-packages/networkx/__init__.py\u001b[0m in \u001b[0;36m<module>\u001b[0;34m\u001b[0m\n\u001b[1;32m    112\u001b[0m \u001b[0;32mfrom\u001b[0m \u001b[0mnetworkx\u001b[0m\u001b[0;34m.\u001b[0m\u001b[0mrelabel\u001b[0m \u001b[0;32mimport\u001b[0m \u001b[0;34m*\u001b[0m\u001b[0;34m\u001b[0m\u001b[0;34m\u001b[0m\u001b[0m\n\u001b[1;32m    113\u001b[0m \u001b[0;34m\u001b[0m\u001b[0m\n\u001b[0;32m--> 114\u001b[0;31m \u001b[0;32mimport\u001b[0m \u001b[0mnetworkx\u001b[0m\u001b[0;34m.\u001b[0m\u001b[0mgenerators\u001b[0m\u001b[0;34m\u001b[0m\u001b[0;34m\u001b[0m\u001b[0m\n\u001b[0m\u001b[1;32m    115\u001b[0m \u001b[0;32mfrom\u001b[0m \u001b[0mnetworkx\u001b[0m\u001b[0;34m.\u001b[0m\u001b[0mgenerators\u001b[0m \u001b[0;32mimport\u001b[0m \u001b[0;34m*\u001b[0m\u001b[0;34m\u001b[0m\u001b[0;34m\u001b[0m\u001b[0m\n\u001b[1;32m    116\u001b[0m \u001b[0;34m\u001b[0m\u001b[0m\n",
      "\u001b[0;32m~/miniconda3/envs/pytorch/lib/python3.7/site-packages/networkx/generators/__init__.py\u001b[0m in \u001b[0;36m<module>\u001b[0;34m\u001b[0m\n\u001b[1;32m     12\u001b[0m \u001b[0;32mfrom\u001b[0m \u001b[0mnetworkx\u001b[0m\u001b[0;34m.\u001b[0m\u001b[0mgenerators\u001b[0m\u001b[0;34m.\u001b[0m\u001b[0mexpanders\u001b[0m \u001b[0;32mimport\u001b[0m \u001b[0;34m*\u001b[0m\u001b[0;34m\u001b[0m\u001b[0;34m\u001b[0m\u001b[0m\n\u001b[1;32m     13\u001b[0m \u001b[0;32mfrom\u001b[0m \u001b[0mnetworkx\u001b[0m\u001b[0;34m.\u001b[0m\u001b[0mgenerators\u001b[0m\u001b[0;34m.\u001b[0m\u001b[0mgeometric\u001b[0m \u001b[0;32mimport\u001b[0m \u001b[0;34m*\u001b[0m\u001b[0;34m\u001b[0m\u001b[0;34m\u001b[0m\u001b[0m\n\u001b[0;32m---> 14\u001b[0;31m \u001b[0;32mfrom\u001b[0m \u001b[0mnetworkx\u001b[0m\u001b[0;34m.\u001b[0m\u001b[0mgenerators\u001b[0m\u001b[0;34m.\u001b[0m\u001b[0mintersection\u001b[0m \u001b[0;32mimport\u001b[0m \u001b[0;34m*\u001b[0m\u001b[0;34m\u001b[0m\u001b[0;34m\u001b[0m\u001b[0m\n\u001b[0m\u001b[1;32m     15\u001b[0m \u001b[0;32mfrom\u001b[0m \u001b[0mnetworkx\u001b[0m\u001b[0;34m.\u001b[0m\u001b[0mgenerators\u001b[0m\u001b[0;34m.\u001b[0m\u001b[0mjoint_degree_seq\u001b[0m \u001b[0;32mimport\u001b[0m \u001b[0;34m*\u001b[0m\u001b[0;34m\u001b[0m\u001b[0;34m\u001b[0m\u001b[0m\n\u001b[1;32m     16\u001b[0m \u001b[0;32mfrom\u001b[0m \u001b[0mnetworkx\u001b[0m\u001b[0;34m.\u001b[0m\u001b[0mgenerators\u001b[0m\u001b[0;34m.\u001b[0m\u001b[0mlattice\u001b[0m \u001b[0;32mimport\u001b[0m \u001b[0;34m*\u001b[0m\u001b[0;34m\u001b[0m\u001b[0;34m\u001b[0m\u001b[0m\n",
      "\u001b[0;32m~/miniconda3/envs/pytorch/lib/python3.7/site-packages/networkx/generators/intersection.py\u001b[0m in \u001b[0;36m<module>\u001b[0;34m\u001b[0m\n\u001b[1;32m     11\u001b[0m \u001b[0;32mimport\u001b[0m \u001b[0mrandom\u001b[0m\u001b[0;34m\u001b[0m\u001b[0;34m\u001b[0m\u001b[0m\n\u001b[1;32m     12\u001b[0m \u001b[0;32mimport\u001b[0m \u001b[0mnetworkx\u001b[0m \u001b[0;32mas\u001b[0m \u001b[0mnx\u001b[0m\u001b[0;34m\u001b[0m\u001b[0;34m\u001b[0m\u001b[0m\n\u001b[0;32m---> 13\u001b[0;31m \u001b[0;32mfrom\u001b[0m \u001b[0mnetworkx\u001b[0m\u001b[0;34m.\u001b[0m\u001b[0malgorithms\u001b[0m \u001b[0;32mimport\u001b[0m \u001b[0mbipartite\u001b[0m\u001b[0;34m\u001b[0m\u001b[0;34m\u001b[0m\u001b[0m\n\u001b[0m\u001b[1;32m     14\u001b[0m \u001b[0;32mfrom\u001b[0m \u001b[0mnetworkx\u001b[0m\u001b[0;34m.\u001b[0m\u001b[0mutils\u001b[0m \u001b[0;32mimport\u001b[0m \u001b[0mpy_random_state\u001b[0m\u001b[0;34m\u001b[0m\u001b[0;34m\u001b[0m\u001b[0m\n\u001b[1;32m     15\u001b[0m \u001b[0;34m\u001b[0m\u001b[0m\n",
      "\u001b[0;32m~/miniconda3/envs/pytorch/lib/python3.7/site-packages/networkx/algorithms/__init__.py\u001b[0m in \u001b[0;36m<module>\u001b[0;34m\u001b[0m\n\u001b[1;32m     71\u001b[0m \u001b[0;32mimport\u001b[0m \u001b[0mnetworkx\u001b[0m\u001b[0;34m.\u001b[0m\u001b[0malgorithms\u001b[0m\u001b[0;34m.\u001b[0m\u001b[0mtournament\u001b[0m\u001b[0;34m\u001b[0m\u001b[0;34m\u001b[0m\u001b[0m\n\u001b[1;32m     72\u001b[0m \u001b[0;32mimport\u001b[0m \u001b[0mnetworkx\u001b[0m\u001b[0;34m.\u001b[0m\u001b[0malgorithms\u001b[0m\u001b[0;34m.\u001b[0m\u001b[0mtraversal\u001b[0m\u001b[0;34m\u001b[0m\u001b[0;34m\u001b[0m\u001b[0m\n\u001b[0;32m---> 73\u001b[0;31m \u001b[0;32mimport\u001b[0m \u001b[0mnetworkx\u001b[0m\u001b[0;34m.\u001b[0m\u001b[0malgorithms\u001b[0m\u001b[0;34m.\u001b[0m\u001b[0mtree\u001b[0m\u001b[0;34m\u001b[0m\u001b[0;34m\u001b[0m\u001b[0m\n\u001b[0m\u001b[1;32m     74\u001b[0m \u001b[0;34m\u001b[0m\u001b[0m\n\u001b[1;32m     75\u001b[0m \u001b[0;31m# Make certain functions from some of the previous subpackages available\u001b[0m\u001b[0;34m\u001b[0m\u001b[0;34m\u001b[0m\u001b[0;34m\u001b[0m\u001b[0m\n",
      "\u001b[0;32m~/miniconda3/envs/pytorch/lib/python3.7/site-packages/networkx/algorithms/tree/__init__.py\u001b[0m in \u001b[0;36m<module>\u001b[0;34m\u001b[0m\n\u001b[0;32m----> 1\u001b[0;31m \u001b[0;32mfrom\u001b[0m \u001b[0;34m.\u001b[0m\u001b[0mbranchings\u001b[0m \u001b[0;32mimport\u001b[0m \u001b[0;34m*\u001b[0m\u001b[0;34m\u001b[0m\u001b[0;34m\u001b[0m\u001b[0m\n\u001b[0m\u001b[1;32m      2\u001b[0m \u001b[0;32mfrom\u001b[0m \u001b[0;34m.\u001b[0m\u001b[0mcoding\u001b[0m \u001b[0;32mimport\u001b[0m \u001b[0;34m*\u001b[0m\u001b[0;34m\u001b[0m\u001b[0;34m\u001b[0m\u001b[0m\n\u001b[1;32m      3\u001b[0m \u001b[0;32mfrom\u001b[0m \u001b[0;34m.\u001b[0m\u001b[0mmst\u001b[0m \u001b[0;32mimport\u001b[0m \u001b[0;34m*\u001b[0m\u001b[0;34m\u001b[0m\u001b[0;34m\u001b[0m\u001b[0m\n\u001b[1;32m      4\u001b[0m \u001b[0;32mfrom\u001b[0m \u001b[0;34m.\u001b[0m\u001b[0mrecognition\u001b[0m \u001b[0;32mimport\u001b[0m \u001b[0;34m*\u001b[0m\u001b[0;34m\u001b[0m\u001b[0;34m\u001b[0m\u001b[0m\n\u001b[1;32m      5\u001b[0m \u001b[0;32mfrom\u001b[0m \u001b[0;34m.\u001b[0m\u001b[0moperations\u001b[0m \u001b[0;32mimport\u001b[0m \u001b[0;34m*\u001b[0m\u001b[0;34m\u001b[0m\u001b[0;34m\u001b[0m\u001b[0m\n",
      "\u001b[0;32m~/miniconda3/envs/pytorch/lib/python3.7/site-packages/networkx/algorithms/tree/branchings.py\u001b[0m in \u001b[0;36m<module>\u001b[0;34m\u001b[0m\n\u001b[1;32m     39\u001b[0m \u001b[0;32mfrom\u001b[0m \u001b[0mnetworkx\u001b[0m\u001b[0;34m.\u001b[0m\u001b[0mutils\u001b[0m \u001b[0;32mimport\u001b[0m \u001b[0mpy_random_state\u001b[0m\u001b[0;34m\u001b[0m\u001b[0;34m\u001b[0m\u001b[0m\n\u001b[1;32m     40\u001b[0m \u001b[0;34m\u001b[0m\u001b[0m\n\u001b[0;32m---> 41\u001b[0;31m \u001b[0;32mfrom\u001b[0m \u001b[0;34m.\u001b[0m\u001b[0mrecognition\u001b[0m \u001b[0;32mimport\u001b[0m \u001b[0;34m*\u001b[0m\u001b[0;34m\u001b[0m\u001b[0;34m\u001b[0m\u001b[0m\n\u001b[0m\u001b[1;32m     42\u001b[0m \u001b[0;34m\u001b[0m\u001b[0m\n\u001b[1;32m     43\u001b[0m __all__ = [\n",
      "\u001b[0;32m~/miniconda3/envs/pytorch/lib/python3.7/site-packages/networkx/algorithms/tree/recognition.py\u001b[0m in \u001b[0;36m<module>\u001b[0;34m\u001b[0m\n\u001b[1;32m     86\u001b[0m \u001b[0;34m\u001b[0m\u001b[0m\n\u001b[1;32m     87\u001b[0m \u001b[0;34m\u001b[0m\u001b[0m\n\u001b[0;32m---> 88\u001b[0;31m \u001b[0;34m@\u001b[0m\u001b[0mnx\u001b[0m\u001b[0;34m.\u001b[0m\u001b[0mutils\u001b[0m\u001b[0;34m.\u001b[0m\u001b[0mnot_implemented_for\u001b[0m\u001b[0;34m(\u001b[0m\u001b[0;34m'undirected'\u001b[0m\u001b[0;34m)\u001b[0m\u001b[0;34m\u001b[0m\u001b[0;34m\u001b[0m\u001b[0m\n\u001b[0m\u001b[1;32m     89\u001b[0m \u001b[0;32mdef\u001b[0m \u001b[0mis_arborescence\u001b[0m\u001b[0;34m(\u001b[0m\u001b[0mG\u001b[0m\u001b[0;34m)\u001b[0m\u001b[0;34m:\u001b[0m\u001b[0;34m\u001b[0m\u001b[0;34m\u001b[0m\u001b[0m\n\u001b[1;32m     90\u001b[0m     \"\"\"\n",
      "\u001b[0;31mAttributeError\u001b[0m: module 'networkx' has no attribute 'utils'"
     ]
    }
   ],
   "source": [
    "#hide\n",
    "from vertex_simulation.primitives import *\n",
    "from vertex_simulation.simulation import *\n",
    "import torch, numpy as np, matplotlib.pylab as plt\n",
    "from mpl_toolkits.mplot3d import axes3d\n",
    "# after you modify this notebook use \"nbdev_build_docs\" to build the docs (and readme.md)\n",
    "# and nbdev_clean_nbs to remove notebook metadata before pushing it\n",
    "%load_ext autoreload\n",
    "%autoreload 2"
   ]
  },
  {
   "cell_type": "markdown",
   "metadata": {},
   "source": [
    "# Vertex Dynamics Simulation of Cell Monolayers\n",
    "\n",
    "> Vertex dynamics simulation for modelling epithelial tissue dynamics (package description)"
   ]
  },
  {
   "cell_type": "markdown",
   "metadata": {},
   "source": [
    "Modules:\n",
    "- `primitives`: implements vertices (w/ distance), edges, cells (w/ perimeter and area), and monolayer (with energy, boundary constraints, and other parameters)\n",
    "- `simulation`: tools for  simulating cellular vertex dynamics. Iterative algorithm implementations, cell monolayer generators (vertices). (anything else to add?!)"
   ]
  },
  {
   "cell_type": "markdown",
   "metadata": {},
   "source": [
    "## Install"
   ]
  },
  {
   "cell_type": "markdown",
   "metadata": {},
   "source": [
    "`pip install vertex_simulation` (not yet implemented)"
   ]
  },
  {
   "cell_type": "markdown",
   "metadata": {},
   "source": [
    "## Using autograd with Vertex, Graph and Monolayer"
   ]
  },
  {
   "cell_type": "markdown",
   "metadata": {},
   "source": [
    "In examples below, it is assumed that you've imported `primitives` module. You can do so with \n",
    "```\n",
    "from vertex_simulation.primitives import *\n",
    "```"
   ]
  },
  {
   "cell_type": "markdown",
   "metadata": {},
   "source": [
    "### Initializing and working with `Vertex` and `Graph` objects"
   ]
  },
  {
   "cell_type": "markdown",
   "metadata": {},
   "source": [
    "`Graph` objects implement graphs and stores its vertices as a `Vertex` object, and its edges as a `torch.tensor`. Both `Vertex` and `Graph` provide interface methods for working with torch's autograd, and methods for calculating edge lengths (or vertex to vertex distance in the case `Vertex`)."
   ]
  },
  {
   "cell_type": "markdown",
   "metadata": {},
   "source": [
    "To illustrate how to use autograd, let's use `Vertex` object. We can define `Vertex` object with its location, or set and modify it later. Location is stored as `Vertex.x` property, a `torch.tensor`. `Vertex(location)` accepts `torch.tensors`, list of lists that are convertible to tensors (with optional keyword arg-s for `torch.tensor()`), and numpy.ndarrays (uses `torch.from_numpy()`)\n",
    "- `v.x` (i.e. location for `v=Vertex(location)`) is assumed to be Nx2 array with float dtype (or any 2D array), and sizes are __not__ checked when set using `self.x`.\n",
    "- Computing gradients, and resetting them to zeros. Example below demonstrates computing $\\partial y/\\partial v_{i,j}$ for $y = \\sum_i\\sum_j v_{i,j}^2$ using `torch.autograd`."
   ]
  },
  {
   "cell_type": "code",
   "execution_count": null,
   "metadata": {},
   "outputs": [],
   "source": [
    "v = Vertex([[3.,-1.],[0.1,0.]],requires_grad=True,dtype=torch.float32)\n",
    "# do some calculation with v.x\n",
    "y = torch.sum(v.x**2)\n",
    "# calculate grad-s\n",
    "y.backward()\n",
    "print('dy/dx_i after y.backward():\\n',v.grad())\n",
    "# set grad-s to zeros (useful when you don't want to accumulate grad-s)\n",
    "v.zero_grad_()\n",
    "print('dy/dx_i after zeroing grad-s:\\n',v.grad())"
   ]
  },
  {
   "cell_type": "markdown",
   "metadata": {},
   "source": [
    "#### Vertex usage example\n",
    "<a name=\"ex1\">Trapped particle in a 2D fluid</a>\n",
    "\n",
    "Let's assume linear drag, where force exerted by a spring is proportional to the velocity of the particle (drag force is $F_d=-b\\frac{dx(t')}{dt'}$)\n",
    "$$F_s(t') = -\\nabla U = b\\frac{dx(t')}{dt'}$$\n",
    "where $U$ is the potential energy of the spring (e.g. optical trap) $U=k\\cdot |r|^2$, where $r$ is the vector from equilibrium point, $o$, pointing to the current location of the particle, $x$. After re-defining time ($t'$) as a relative \"scaled\" time $t=\\frac{t'}{b}$ and taking gradient of potential energy w.r.t. $x$, we can re-write the equation of motion (also let's set $o$ as origin $[0,0]$, then $r=x$)\n",
    "$$\\frac{dx(t)}{dt}=-2k(x-o)= -2kx$$\n",
    "Let's numerically solve this equation ( _refer to the code cell below_ ). If the scale of the step size is chosen well (e.g. in the code below for large `k` use smaller `Dt`), solution $x(t)$ should converge to the equilibrium point $o$."
   ]
  },
  {
   "cell_type": "markdown",
   "metadata": {},
   "source": [
    "One way to model this system is to use two vertices, one for constant equilibrium point $o$, and a second vertex for particle position $x(t)$. To track potential energy gradient w.r.t. $x(t)$ we'll set `requires_grad=True` for the moving vertex, `v1` in the code below (this flag enables `torch`'s autograd to backpropagate the gradients)."
   ]
  },
  {
   "cell_type": "code",
   "execution_count": null,
   "metadata": {},
   "outputs": [],
   "source": [
    "o  = Vertex(torch.tensor([[0,0]],dtype=torch.float64)) # equilibrium point (where U(x) is minimum)\n",
    "v1 = Vertex(torch.tensor([[-3,3]],requires_grad=True,dtype=torch.float64)) # particles location\n",
    "r = o.dist(v1)\n",
    "print(f'distance from equilibrium (r):{r.item():.4f}')\n",
    "print(f'o requires_grad? :{o.requires_grad()}',\n",
    "      f'\\nv1 requires_grad?:{v1.requires_grad()}',\n",
    "      f'\\nr requires_grad? :{r.requires_grad}')\n",
    "# note that for Vertex self.requires_grad() is a function"
   ]
  },
  {
   "cell_type": "markdown",
   "metadata": {},
   "source": [
    "In order to calculate gradients w.r.t. $x$, we need to set up a function that maps $x$ to some scalar value. In our example, this function is the potential energy function $U(x)$ (`energy(r)` below). Once `energy` function is evalutated, we need to call `backward()` on the returned `torch.tensor` to calculate (analytic) gradient of potential energy function at $x=v1$ (i.e. $\\nabla_x U|_{x=v1}$; `dEdx` in code below)"
   ]
  },
  {
   "cell_type": "code",
   "execution_count": null,
   "metadata": {},
   "outputs": [],
   "source": [
    "# Define energy\n",
    "k = 1.0\n",
    "energy = lambda r: k*r**2\n",
    "E = energy(r)\n",
    "print(f'Energy=kr^2 :{E.item():.4f}')\n",
    "# compute gradients\n",
    "E.backward()\n",
    "dEdx = v1.grad().data\n",
    "dxdt = -dEdx\n",
    "print(f't=0: dE/dx={dEdx.tolist()} --> dx/dt=-dE/dx={dxdt.tolist()}')"
   ]
  },
  {
   "cell_type": "markdown",
   "metadata": {},
   "source": [
    "An important point to keep in mind when using iterative methods (e.g. gradient descent) shown in the code below, is to remember to reset gradients accumulator to zeros. For `Vertex` objects its done with `Vertex.zero_grad_()`, if the vertex has `requires_grad=True` flag, calling this method sets all gradients of a given vertex to zeros. Otherwise it does nothing, e.g. gradients w.r.t. $o$ are kept as `None`, and they are not calculated."
   ]
  },
  {
   "cell_type": "code",
   "execution_count": null,
   "metadata": {},
   "outputs": [],
   "source": [
    "# Numerical integration\n",
    "Dt = .16 # time step size\n",
    "positions = [v1.x.tolist()]\n",
    "t = [0]\n",
    "Energies = []\n",
    "print('Integration (Euler\\'s method):')\n",
    "for n in range(25):\n",
    "    v1.zero_grad_()\n",
    "    E = energy(o.dist(v1))  # elastic energy, o.dist(v1) is distance from vertex \"o\"\n",
    "    Energies.append(E.item())\n",
    "    E.backward()   # compute gradients\n",
    "    dxdt = -v1.grad().data# dx/dt=-dE/dx\n",
    "    if n%5==0:\n",
    "        print(f't={Dt*n:.2f}:r={o.dist(v1).item():4.3f}; E={E.item():.2g}; dx/dt={dxdt}')\n",
    "    # Update vertex position\n",
    "    with torch.no_grad():\n",
    "        v1.x += dxdt*Dt\n",
    "    positions.append(v1.x.tolist()); t.append(t[-1]+Dt)\n",
    "Energies.append( energy(o.dist(v1)).item() )"
   ]
  },
  {
   "cell_type": "markdown",
   "metadata": {},
   "source": [
    "Results of the numerical integration above-- the evolution of the system in relative time, are shown below. Keep in mind that, in this simulation time is scaled by drag coefficient $b$, and for more accurate dynamics we need to use smaller `Dt` (or more accurate method for numerical integration)."
   ]
  },
  {
   "cell_type": "code",
   "execution_count": null,
   "metadata": {},
   "outputs": [],
   "source": [
    "# Display the results\n",
    "positions = np.array(positions).squeeze() # convert to a np array\n",
    "fig = plt.figure(figsize=plt.figaspect(0.25))\n",
    "\n",
    "# Energy as a function of position and particle trajectory\n",
    "ax = fig.add_subplot(1, 3, 1, projection='3d')\n",
    "# Plot the Energy surface\n",
    "Xmesh,Ymesh = np.meshgrid(np.arange(-4,4,.25),np.arange(-4,4,.25))\n",
    "Zmesh = k*((Xmesh-o.x[0,0].numpy())**2+(Ymesh-o.x[0,1].numpy())**2) # potential energy surface\n",
    "ax.plot_surface(Xmesh,Ymesh, Zmesh, alpha=0.15)\n",
    "# Plot trajectory of the vertex E,x1,x2\n",
    "ax.plot(positions[:,0],positions[:,1],Energies,'ro-',alpha=.3)\n",
    "ax.plot(positions[:1,0],positions[:1,1],Energies[:1],'mo',ms=15,label='start')\n",
    "ax.plot(positions[-1:,0],positions[-1:,1],Energies[-1:],'bo',ms=15,label='end')\n",
    "ax.set_xlabel('positions $x_1$'); ax.set_ylabel('positions $x_2$'); ax.set_zlabel('$Energy$');\n",
    "plt.legend();\n",
    "\n",
    "# Energy as function of time\n",
    "ax = fig.add_subplot(1, 3, 2);\n",
    "ax.plot(t,Energies);\n",
    "ax.set_xlabel('time'); ax.set_ylabel('Energy')\n",
    "\n",
    "# Vertex position (components) as a function of time\n",
    "ax = fig.add_subplot(1, 3, 3)\n",
    "ax.plot(t,positions);\n",
    "plt.legend(['$x_1$','$x_2$']);\n",
    "ax.set_ylabel('Positions $x_i$'); ax.set_xlabel('time');\n",
    "\n",
    "plt.show()"
   ]
  },
  {
   "cell_type": "markdown",
   "metadata": {},
   "source": [
    "#### `Graph` usage example\n",
    "<a name=\"ex2\">Attracting particles in a 2D fluid</a>\n",
    "\n",
    "Now, let's evolve in time a system decribed by a potential\n",
    "$$U=k\\sum_{\\forall ij|j\\neq i}|x_i-x_j|^2=k\\sum_{\\forall ij|j\\neq i}l^2_{ij}$$\n",
    "where every vertex $i$ is connected to all the other vertices $j$ with edges $ij$, and $x_i$ is the position of vertex $i$ on a 2D plane (vector). Force balance equation for this system, same as in [Example 1](#ex1) is \n",
    "$$b\\frac{dx(t')}{dt'}=-\\nabla U$$\n",
    "$\\nabla U$ is a function of distances between all possible pairs of vertices (edge lengths $l_{ij}$, scalars). The equation of motion for every vertex is (with $t=t'/b$)\n",
    "$$\\frac{dx_i}{dt}=-k\\sum_{\\forall ij|j\\neq i}2(x_i-x_j)= 2k\\sum_{\\forall ij|j\\neq i}(x_j-x_i)$$\n",
    "This system can be described by a complete graph, `G` in the code below. In order to demonstrate how to work with this type of systems, let's create a complete graph with $N_v$ vertices."
   ]
  },
  {
   "cell_type": "code",
   "execution_count": null,
   "metadata": {},
   "outputs": [],
   "source": [
    "np.random.seed(42) # let's seed RNG for sanity and reproducibility\n",
    "Nv = 10 # number of vertices\n",
    "Xv = np.random.uniform(0,1,(Nv,2)) # initial vertex potions sampled from uniform distribution [0,1)\n",
    "edges = [[i,j] for i in range(Nv) for j in range(i+1,Nv) if i!=j] # list of edges for complete graph\n",
    "plot_graph(Xv,edges) # plot vertices and edges"
   ]
  },
  {
   "cell_type": "markdown",
   "metadata": {},
   "source": [
    "Now, let's solve $x(t)$ with Euler's method. Note that in the code below, `Dt` must be smaller for large $N_v$ (e.g. about $0.01$ or less for $N_v=10$, and about $0.001$ for $N_v=100$). Try changing the parameters (one at a time) and observe what happens."
   ]
  },
  {
   "cell_type": "code",
   "execution_count": null,
   "metadata": {},
   "outputs": [],
   "source": [
    "# initialize a graph\n",
    "G = Graph(vertices=Vertex(torch.from_numpy(Xv).clone(),requires_grad=True, dtype=torch.float64), edges=torch.tensor(edges) )\n",
    "G.vertices.requires_grad_(True) # turn on `Vertex` gradients; check its status with G.vertices.requires_grad()\n",
    "print('Number of vertices:',G.vertices.x.size(0),'\\nNumber of edges:', G.edges.size(0),\n",
    "      '\\nRequires grad?:',G.vertices.requires_grad())\n",
    "\n",
    "# Define energy function\n",
    "k=1.0\n",
    "energy = lambda l: k*torch.sum(l**2) # E = k sum(l_ij ^2)\n",
    "# Numerical integration\n",
    "Dt = 2**-10 # time step size\n",
    "positions = [G.vertices.x.clone()]\n",
    "t = [0]\n",
    "Energies = []\n",
    "print('Integration (Euler\\'s method):')\n",
    "for n in range(256):\n",
    "    G.set_zero_grad_() # reset grad accumulator\n",
    "    E = energy(G.length())  # total potential energy of the system\n",
    "    Energies.append(E.item()) # E(t-1)\n",
    "    E.backward() # compute gradients\n",
    "    dxdt = -G.get_vertex_grad() # dx/dt=-dE/dx\n",
    "    # Update vertex position\n",
    "    with torch.no_grad():\n",
    "        G.vertices.x += dxdt*Dt\n",
    "    positions.append(G.vertices.x.clone())\n",
    "    t.append(t[-1]+Dt)\n",
    "    if n%32==0:\n",
    "        mean_grad = torch.norm(dxdt,dim=1).mean().item()\n",
    "        print(f't={t[-1]:2.3f}: E={E.item():1.1g}; aver |dx/dt|= {mean_grad:1.1g}')\n",
    "Energies.append( energy(G.length()).item() )\n",
    "plt.plot(t,Energies);plt.xlabel('time');plt.ylabel('energy');"
   ]
  },
  {
   "cell_type": "markdown",
   "metadata": {},
   "source": [
    "Results for numerical integration above as a movie of the graph $G$:"
   ]
  },
  {
   "cell_type": "code",
   "execution_count": null,
   "metadata": {},
   "outputs": [],
   "source": [
    "#hide\n",
    "from matplotlib import animation, rc\n",
    "from IPython.display import HTML"
   ]
  },
  {
   "cell_type": "code",
   "execution_count": null,
   "metadata": {},
   "outputs": [],
   "source": [
    "# hide\n",
    "from matplotlib import animation, rc\n",
    "from IPython.display import HTML\n",
    "\n",
    "# set up figure, axis, and artists\n",
    "fig, ax = plt.subplots()\n",
    "xy_min = min(0.0,positions[0].min().item())\n",
    "xy_max = max(1.0,positions[0].max().item())\n",
    "ax.axis('square')\n",
    "ax.axis([xy_min,xy_max,xy_min,xy_max]);ax.axis(False)\n",
    "edge_lines = []\n",
    "for ij in G.edges:\n",
    "    edge_line, = ax.plot([], [],'g-', lw=2,alpha=.2)\n",
    "    edge_lines.append(edge_line)\n",
    "node_dots, = ax.plot([], [], 'mo',ms=10,alpha=.5)\n",
    "\n",
    "# use matplotlib's animation.FuncAnimation\n",
    "def init():\n",
    "    ax.set_title(f\"{t[0]:4.3f}\")\n",
    "    for edge_line in edge_lines:\n",
    "        edge_line.set_data([], [])\n",
    "    node_dots.set_data([], [])\n",
    "    return (*edge_lines,node_dots)\n",
    "\n",
    "def animate(i):\n",
    "    ax.set_title(f\"t={t[i]:4.3f}\")\n",
    "    xy = positions[i].detach().numpy()\n",
    "    for k,edge_line in enumerate(edge_lines):\n",
    "        ij = G.edges[k,:].numpy()\n",
    "        edge_line.set_data([xy[ij[0],0],xy[ij[1],0]], [xy[ij[0],1],xy[ij[1],1]])\n",
    "    node_dots.set_data(xy[:,0], xy[:,1])\n",
    "    return (*edge_lines,node_dots)\n",
    "\n",
    "f_anim = animation.FuncAnimation(fig, animate, init_func=init, interval=200,\n",
    "                                 frames = range(0,len(positions),max(1,round(len(positions)/64))))\n",
    "plt.close()"
   ]
  },
  {
   "cell_type": "code",
   "execution_count": null,
   "metadata": {},
   "outputs": [],
   "source": [
    "HTML(f_anim.to_jshtml()) # using HTML from IPython.display and matplotlib's animation module"
   ]
  },
  {
   "cell_type": "markdown",
   "metadata": {},
   "source": [
    "### `Monolayer` objects"
   ]
  },
  {
   "cell_type": "markdown",
   "metadata": {},
   "source": [
    "`Monolayer` object stores vertices, edges, and cells and implements methods for working wiht torch's autograd. In order to demonstrate how to use `Monolayer` objects, we start with generating cells. Here we will use Voronoi tessellation."
   ]
  },
  {
   "cell_type": "code",
   "execution_count": null,
   "metadata": {},
   "outputs": [],
   "source": [
    "from scipy.spatial import Voronoi,voronoi_plot_2d\n",
    "\n",
    "v_seeds=np.array([[np.sqrt(3)/2,5.5], [1.5*np.sqrt(3),5.5], [0.,4.],\n",
    "                  [np.sqrt(3),4.],[2*np.sqrt(3),4.],[-np.sqrt(3)/2,2.5],\n",
    "                  [np.sqrt(3)/2,2.5],[1.5*np.sqrt(3),2.5],[2.5*np.sqrt(3),2.5],\n",
    "                  [0.,1.],[2*np.sqrt(3),1.], [np.sqrt(3),1.]])\n",
    "\n",
    "vrn = Voronoi(v_seeds)\n",
    "voronoi_plot_2d(vrn)\n",
    "plt.show()"
   ]
  },
  {
   "cell_type": "markdown",
   "metadata": {},
   "source": [
    "After obtaining the Voronoi tesselation, use `VoronoiRegions2Edges` to convert regions into a `Monolayer` (and `Graph`) compatible edges and cells representations:"
   ]
  },
  {
   "cell_type": "code",
   "execution_count": null,
   "metadata": {},
   "outputs": [],
   "source": [
    "edge_list,cells = VoronoiRegions2Edges(vrn.regions) # convert regions to edges and cells\n",
    "print(cells)"
   ]
  },
  {
   "cell_type": "markdown",
   "metadata": {},
   "source": [
    "`cells` is the `dict` of edge indices. Negative edge indices indicate reversed vertex order:"
   ]
  },
  {
   "cell_type": "code",
   "execution_count": null,
   "metadata": {},
   "outputs": [],
   "source": [
    "verts = Vertex(vrn.vertices)\n",
    "edges = torch.tensor(edge_list)\n",
    "\n",
    "plt.figure(figsize=[5,5])\n",
    "plot_graph(verts.x,edges)\n",
    "\n",
    "# vertex indices\n",
    "for k,v in enumerate(vrn.vertices):\n",
    "    plt.text(v[0]+.1,v[1]+.1,f\"{k}\",c='b',ha='center',alpha=.5)\n",
    "\n",
    "# cell edges\n",
    "for c in cells:\n",
    "    cell_edges = edges[np.abs(cells[c])-1,:] # edge indices (without direction)\n",
    "    if np.any(np.sign(cells[c])<0):\n",
    "        # reverse vertex order for negative edges\n",
    "        tmp = cell_edges[np.sign(cells[c])<0,:].clone()\n",
    "        cell_edges[np.sign(cells[c])<0,0]=tmp[:,1]\n",
    "        cell_edges[np.sign(cells[c])<0,1]=tmp[:,0]\n",
    "    cell_xy = torch.mean(verts.x[cell_edges[:,0],:],0)\n",
    "    for e in cell_edges:\n",
    "        e_xy = torch.mean(verts.x[e,:],0)*.65+cell_xy*.35\n",
    "        plt.text(e_xy[0],e_xy[1],f\"{e.numpy()}\",ha='center')\n",
    "plt.show()"
   ]
  },
  {
   "cell_type": "markdown",
   "metadata": {},
   "source": [
    "#### `Monolayer` dynamics example"
   ]
  },
  {
   "cell_type": "code",
   "execution_count": null,
   "metadata": {},
   "outputs": [],
   "source": [
    "import networkx as nx\n",
    "import matplotlib.animation as animation\n",
    "\n",
    "np.random.seed(42)# let's seed RNG for sanity and reproducibility\n",
    "\n",
    "v_x,regions =unit_hexagons(4,4) # 4x4 hexagons\n",
    "# convert Voronoi regions to cells and edges\n",
    "edge_list,cells = VoronoiRegions2Edges(regions)\n",
    "# perturb vertices\n",
    "v_x += np.random.randn(v_x.shape[0], v_x.shape[1])*.2\n",
    "# define cell monolayer\n",
    "cell_graph = Monolayer(vertices=Vertex(v_x.copy()), edges=torch.tensor(edge_list), cells=cells)\n",
    "\n",
    "Gnx,pos=graph2networkx_with_pos(cell_graph)\n",
    "fig = plt.figure(figsize=[3,3])\n",
    "nx.draw(Gnx,pos,node_size=10,node_color='#FF00FF',edge_color='#51C5FF')"
   ]
  },
  {
   "cell_type": "markdown",
   "metadata": {},
   "source": [
    "### Passive forces case"
   ]
  },
  {
   "cell_type": "code",
   "execution_count": null,
   "metadata": {},
   "outputs": [],
   "source": [
    "# let's seed RNG for sanity and reproducibility\n",
    "np.random.seed(42)\n",
    "\n",
    "# define cell monolayer\n",
    "v_x,regions =unit_hexagons(4,4) # 4x4 hexagons\n",
    "# convert Voronoi regions to cells and edges\n",
    "edge_list,cells = VoronoiRegions2Edges(regions)\n",
    "# perturb vertices\n",
    "v_x += np.random.randn(v_x.shape[0], v_x.shape[1])*.2\n",
    "\n",
    "cell_graph = Monolayer(vertices=Vertex(v_x.copy()), edges=torch.tensor(edge_list), cells=cells)\n",
    "\n",
    "Gnx,pos=graph2networkx_with_pos(cell_graph)\n",
    "\n",
    "fig = plt.figure(figsize=[5,5])\n",
    "fig.clf()\n",
    "ax = fig.subplots()\n",
    "ax.axis(False);\n",
    "nx.draw(Gnx,pos,node_size=10,ax=ax,node_color='#FF00FF',edge_color='#51C5FF')\n",
    "plt.show()\n",
    "plt.close()\n",
    "\n",
    "# Define energy function\n",
    "energy = lambda p,a: torch.sum(.01*(p)**2)+torch.sum((a-2.3)**2) #\n",
    "# Numerical integration\n",
    "Dt = 2**-3 # time step size\n",
    "t = [0]\n",
    "Energies = []\n",
    "Forces = []\n",
    "verts_t =[]\n",
    "verts_frames=[]\n",
    "print('Integration (Euler\\'s method):')\n",
    "t_total = 2**8\n",
    "cell_graph.vertices.requires_grad_(True)\n",
    "for n in range(t_total):\n",
    "    cell_graph.set_zero_grad_() # reset grad accumulator\n",
    "    E = energy(cell_graph.perimeter(),cell_graph.area())  # total potential energy of the system\n",
    "    Energies.append(E.item()) # E(t-1)\n",
    "    E.backward() # compute gradients\n",
    "    dxdt = -cell_graph.get_vertex_grad() # dx/dt=-dE/dx\n",
    "    # Update vertex position\n",
    "    with torch.no_grad():\n",
    "        cell_graph.vertices.x += dxdt*Dt\n",
    "        Forces.append(torch.norm(dxdt,dim=1).mean().item())\n",
    "    if (n+1)%32==0 or n==0:\n",
    "        verts_t.append(cell_graph.vertices.x.detach().clone())\n",
    "        verts_frames.append(t[-1])\n",
    "    if round((n+1)%(t_total/12))==0:\n",
    "        #plt.figure(figsize=figsize)\n",
    "        #plot_graph_as_quiver(init_state,quiver_kwargs=quiver_kwargs)\n",
    "        #plot_graph_as_quiver(cell_graph)\n",
    "        #plt.axis(axs_lims)\n",
    "        #plt.show()\n",
    "        mean_grad = torch.norm(dxdt,dim=1).mean().item()\n",
    "        print(f't={t[-1]:2.3f}: E={E.item():5.4g}; aver |dx/dt|= {mean_grad:3.2g}')\n",
    "    t.append(t[-1]+Dt)\n",
    "\n",
    "Energies.append( energy(cell_graph.perimeter(),cell_graph.area()).item() )\n",
    "plt.figure(figsize=[5,3])\n",
    "plt.plot(t,Energies);plt.xlabel('time');plt.ylabel('energy');\n",
    "# add forces (except last frame)\n",
    "ax2=plt.gca().twinx()\n",
    "ax2.set_ylabel('Average $|F|$',color='red')\n",
    "ax2.plot(t[:-1],Forces,'r-',alpha=.4,lw=4)\n",
    "plt.show()\n",
    "# Print final Perimeters and Areas\n",
    "print(f\"Perimeters:{cell_graph.perimeter().detach().squeeze()}\\nAreas:{cell_graph.area().detach()}\")"
   ]
  },
  {
   "cell_type": "code",
   "execution_count": null,
   "metadata": {},
   "outputs": [],
   "source": [
    "def draw(i):\n",
    "    pos = dict(zip(range(verts_t[i].shape[0]),verts_t[i].numpy()))\n",
    "    ax.cla()\n",
    "    ax.axis('off')\n",
    "    ax.set_title(f'Epoch:{verts_frames[i]:2.3f}')\n",
    "    nx.draw(Gnx,pos,node_size=10,ax=ax,node_color='#FF00FF',edge_color='#51C5FF')\n",
    "\n",
    "# Networkx's edge ordering is different\n",
    "edge_idx = dict(zip([tuple(e) for e in cell_graph.edges.tolist()],range(cell_graph.edges.shape[0])))\n",
    "edge_idx_order = [edge_idx[e if e in edge_idx else (e[1],e[0])] for e in Gnx.edges ]\n",
    "def draw_w_tension(i):\n",
    "    pos = dict(zip(range(verts_t[i].shape[0]),verts_t[i].numpy()))\n",
    "    ax.cla()\n",
    "    ax.axis('off')\n",
    "    ax.set_title(f'Epoch:{verts_frames[i]:2.3f}')\n",
    "    #node_color=range(24), node_size=800, cmap=plt.cm.Blues\n",
    "    nx.draw(Gnx,pos,node_size=10,ax=ax,node_color='#FF00FF',\n",
    "            edge_color=line_tensions[i].numpy()[edge_idx_order],edge_cmap=plt.cm.bwr)"
   ]
  },
  {
   "cell_type": "code",
   "execution_count": null,
   "metadata": {},
   "outputs": [],
   "source": [
    "fig = plt.figure(figsize=[5,5])\n",
    "fig.clf()\n",
    "ax = fig.subplots()\n",
    "ax.axis(False);\n",
    "draw(0)  # draw the prediction of the first epoch\n",
    "plt.show()\n",
    "plt.close()\n",
    "\n",
    "ani_passive = animation.FuncAnimation(fig, draw, interval=200,\n",
    "                              frames = range(0,len(verts_t),max(1,round(len(verts_t)/64))))"
   ]
  },
  {
   "cell_type": "code",
   "execution_count": null,
   "metadata": {},
   "outputs": [],
   "source": [
    "print('Passive system (foam)')\n",
    "HTML(ani_passive.to_jshtml()) # using HTML from IPython.display and matplotlib's animation module"
   ]
  },
  {
   "cell_type": "markdown",
   "metadata": {},
   "source": [
    "### Active anisotropic forces"
   ]
  },
  {
   "cell_type": "markdown",
   "metadata": {},
   "source": [
    "#### Edge direction is independent"
   ]
  },
  {
   "cell_type": "code",
   "execution_count": null,
   "metadata": {},
   "outputs": [],
   "source": [
    "# let's seed RNG for sanity and reproducibility\n",
    "np.random.seed(42)\n",
    "\n",
    "# define cell monolayer\n",
    "v_x,regions =unit_hexagons(4,4) # 4x4 hexagons\n",
    "# convert Voronoi regions to cells and edges\n",
    "edge_list,cells = VoronoiRegions2Edges(regions)\n",
    "# perturb vertices\n",
    "v_x += np.random.randn(v_x.shape[0], v_x.shape[1])*.2\n",
    "\n",
    "cell_graph = Monolayer(vertices=Vertex(v_x.copy()), edges=torch.tensor(edge_list), cells=cells)\n",
    "\n",
    "Gnx,pos=graph2networkx_with_pos(cell_graph)\n",
    "\n",
    "fig = plt.figure(figsize=[5,5])\n",
    "fig.clf()\n",
    "ax = fig.subplots()\n",
    "ax.axis(False);\n",
    "nx.draw(Gnx,pos,node_size=10,ax=ax,node_color='#FF00FF',edge_color='#51C5FF')\n",
    "plt.show()\n",
    "plt.close()\n",
    "\n",
    "# Define energy function\n",
    "omega = torch.tensor([np.pi/2],dtype=cell_graph.vertices.x.dtype)\n",
    "def monolayer_energy(Perm,Area,Leng,Tau,direction):\n",
    "    dir_coeff = torch.abs(direction.detach()[:,1])/torch.norm(direction.detach(),dim=1)\n",
    "    gamma_ij_by_lij = (Leng*dir_coeff.view(-1,1))*torch.cos(omega*Tau)**2\n",
    "    return (torch.sum(.01*(Perm)**2) + torch.sum((Area-2.3)**2) + torch.sum(gamma_ij_by_lij)), dir_coeff\n",
    "\n",
    "# Numerical integration\n",
    "Dt = 2**-3 # time step size\n",
    "t = [0]\n",
    "Energies = []\n",
    "Forces = []\n",
    "verts_t =[]\n",
    "verts_frames=[]\n",
    "line_tensions=[]\n",
    "print('Integration (Euler\\'s method):')\n",
    "t_total = 2**8\n",
    "cell_graph.vertices.requires_grad_(True)\n",
    "for n in range(t_total):\n",
    "    cell_graph.set_zero_grad_() # reset grad accumulator\n",
    "    # total potential energy of the system:\n",
    "    E,edge_tensions = monolayer_energy(cell_graph.perimeter(),cell_graph.area(),\n",
    "                         cell_graph.length(),t[-1],\n",
    "                        cell_graph.direction()) \n",
    "    Energies.append(E.item()) # E(t-1)\n",
    "    E.backward() # compute gradients\n",
    "    dxdt = -cell_graph.get_vertex_grad() # dx/dt=-dE/dx\n",
    "    # Update vertex position\n",
    "    with torch.no_grad():\n",
    "        cell_graph.vertices.x += dxdt*Dt\n",
    "        Forces.append(torch.norm(dxdt,dim=1).mean().item())\n",
    "    \n",
    "    if (n+1)%32==0:\n",
    "        verts_t.append(cell_graph.vertices.x.detach().clone())\n",
    "        verts_frames.append(t[-1])\n",
    "        line_tensions.append(edge_tensions.detach().clone())\n",
    "    if round((n+1)%(t_total/10))==0:\n",
    "        mean_grad = torch.norm(dxdt,dim=1).mean().item()\n",
    "        print(f't={t[-1]:2.3f}: E={E.item():5.4g}; aver |dx/dt|= {mean_grad:3.2g}')\n",
    "    t.append(t[-1]+Dt) # update last frame time\n",
    "\n",
    "Energies.append( monolayer_energy( cell_graph.perimeter(), cell_graph.area(),\n",
    "                                  cell_graph.length(),t[-1],cell_graph.direction())[0].item() )\n",
    "plt.figure(figsize=[5,3])\n",
    "plt.plot(t,Energies);plt.xlabel('time');plt.ylabel('energy');\n",
    "# add forces (except last frame)\n",
    "ax2=plt.gca().twinx()\n",
    "ax2.set_ylabel('Average $|F|$',color='red')\n",
    "ax2.plot(t[:-1],Forces,'r-',alpha=.4,lw=2)\n",
    "plt.show()\n",
    "# Print final Perimeters and Areas\n",
    "print(f\"Perimeters:{cell_graph.perimeter().detach().squeeze()}\\nAreas:{cell_graph.area().detach()}\")"
   ]
  },
  {
   "cell_type": "code",
   "execution_count": null,
   "metadata": {},
   "outputs": [],
   "source": [
    "ani_dir_no_grad = animation.FuncAnimation(fig, draw_w_tension, interval=200,\n",
    "                              frames = range(0,len(verts_t),max(1,round(len(verts_t)/64))))"
   ]
  },
  {
   "cell_type": "code",
   "execution_count": null,
   "metadata": {},
   "outputs": [],
   "source": [
    "print('Direction is independent of positions (gradient==0)')\n",
    "HTML(ani_dir_no_grad.to_jshtml()) # using HTML from IPython.display and matplotlib's animation module"
   ]
  },
  {
   "cell_type": "markdown",
   "metadata": {},
   "source": [
    "#### with anisotropy and differentiable edge direction"
   ]
  },
  {
   "cell_type": "code",
   "execution_count": null,
   "metadata": {},
   "outputs": [],
   "source": [
    "# let's seed RNG for sanity and reproducibility\n",
    "np.random.seed(42)\n",
    "\n",
    "# define cell monolayer\n",
    "v_x,regions =unit_hexagons(4,4) # 4x4 hexagons\n",
    "# convert Voronoi regions to cells and edges\n",
    "edge_list,cells = VoronoiRegions2Edges(regions)\n",
    "# perturb vertices\n",
    "v_x += np.random.randn(v_x.shape[0], v_x.shape[1])*.2\n",
    "\n",
    "cell_graph = Monolayer(vertices=Vertex(v_x.copy()), edges=torch.tensor(edge_list), cells=cells)\n",
    "\n",
    "Gnx,pos=graph2networkx_with_pos(cell_graph)\n",
    "\n",
    "fig = plt.figure(figsize=[5,5])\n",
    "fig.clf()\n",
    "ax = fig.subplots()\n",
    "ax.axis(False);\n",
    "nx.draw(Gnx,pos,node_size=10,ax=ax,node_color='#FF00FF',edge_color='#51C5FF')\n",
    "plt.show()\n",
    "plt.close()\n",
    "\n",
    "# Define energy function\n",
    "omega = torch.tensor([np.pi/2],dtype=cell_graph.vertices.x.dtype)\n",
    "def monolayer_energy(Perm,Area,Leng,Tau,direction):\n",
    "    dir_coeff = torch.abs(direction[:,1])/torch.norm(direction,dim=1)\n",
    "    gamma_ij_by_lij = (Leng*dir_coeff.view(-1,1))*torch.cos(omega*Tau)**2\n",
    "    return (torch.sum(.01*(Perm)**2) + torch.sum((Area-2.3)**2) + torch.sum(gamma_ij_by_lij)), dir_coeff\n",
    "\n",
    "# Numerical integration\n",
    "Dt = 2**-3 # time step size\n",
    "t = [0]\n",
    "Energies = []\n",
    "Forces = []\n",
    "verts_t =[]\n",
    "verts_frames=[]\n",
    "line_tensions=[]\n",
    "print('Integration (Euler\\'s method):')\n",
    "t_total = 2**8\n",
    "\n",
    "cell_graph.vertices.requires_grad_(True)\n",
    "for n in range(t_total):\n",
    "    cell_graph.set_zero_grad_() # reset grad accumulator\n",
    "    # total potential energy of the system:\n",
    "    E,dir_coeff = monolayer_energy(cell_graph.perimeter(),cell_graph.area(),\n",
    "                         cell_graph.length(),t[-1],\n",
    "                        cell_graph.direction()) \n",
    "    Energies.append(E.item()) # E(t-1)\n",
    "    E.backward() # compute gradients\n",
    "    dxdt = -cell_graph.get_vertex_grad() # dx/dt=-dE/dx\n",
    "    # Update vertex position\n",
    "    with torch.no_grad():\n",
    "        cell_graph.vertices.x += dxdt*Dt\n",
    "        Forces.append(torch.norm(dxdt,dim=1).mean().item())\n",
    "    \n",
    "    if (n+1)%32==0:\n",
    "        verts_t.append(cell_graph.vertices.x.detach().clone())\n",
    "        verts_frames.append(t[-1])\n",
    "        line_tensions.append(dir_coeff.detach().clone())\n",
    "    if round((n+1)%(t_total/8))==0:\n",
    "        mean_grad = torch.norm(dxdt,dim=1).mean().item()\n",
    "        print(f't={t[-1]:2.3f}: E={E.item():5.4g}; aver |dx/dt|= {mean_grad:3.2g}')\n",
    "    t.append(t[-1]+Dt) # update last frame time\n",
    "\n",
    "Energies.append( monolayer_energy( cell_graph.perimeter(), cell_graph.area(),\n",
    "                                  cell_graph.length(),t[-1],cell_graph.direction())[0].item() )\n",
    "plt.figure(figsize=[5,3])\n",
    "plt.plot(t,Energies);plt.xlabel('time');plt.ylabel('energy');\n",
    "# add forces (except last frame)\n",
    "ax2=plt.gca().twinx()\n",
    "ax2.set_ylabel('Average $|F|$',color='red')\n",
    "ax2.plot(t[:-1],Forces,'r-',alpha=.4,lw=2)\n",
    "plt.show()\n",
    "# Print final Perimeters and Areas\n",
    "print(f\"Perimeters:{cell_graph.perimeter().detach().squeeze()}\\nAreas:{cell_graph.area().detach()}\")"
   ]
  },
  {
   "cell_type": "code",
   "execution_count": null,
   "metadata": {},
   "outputs": [],
   "source": [
    "ani_dir_grad = animation.FuncAnimation(fig, draw_w_tension, interval=200,\n",
    "                              frames = range(0,len(verts_t),max(1,round(len(verts_t)/64))))"
   ]
  },
  {
   "cell_type": "code",
   "execution_count": null,
   "metadata": {},
   "outputs": [],
   "source": [
    "print('Direction has gradient w.r.t. positions')\n",
    "HTML(ani_dir_grad.to_jshtml()) # using HTML from IPython.display and matplotlib's animation module"
   ]
  },
  {
   "cell_type": "markdown",
   "metadata": {},
   "source": [
    "#### Anisotropic active forces with lower amplitude"
   ]
  },
  {
   "cell_type": "code",
   "execution_count": null,
   "metadata": {},
   "outputs": [],
   "source": [
    "# let's seed RNG for sanity and reproducibility\n",
    "np.random.seed(42)\n",
    "\n",
    "# define cell monolayer\n",
    "v_x,regions =unit_hexagons(4,4) # 4x4 hexagons\n",
    "# convert Voronoi regions to cells and edges\n",
    "edge_list,cells = VoronoiRegions2Edges(regions)\n",
    "# perturb vertices\n",
    "v_x += np.random.randn(v_x.shape[0], v_x.shape[1])*.2\n",
    "\n",
    "cell_graph = Monolayer(vertices=Vertex(v_x.copy()), edges=torch.tensor(edge_list), cells=cells)\n",
    "\n",
    "Gnx,pos=graph2networkx_with_pos(cell_graph)\n",
    "\n",
    "fig = plt.figure(figsize=[5,5])\n",
    "fig.clf()\n",
    "ax = fig.subplots()\n",
    "ax.axis(False);\n",
    "nx.draw(Gnx,pos,node_size=10,ax=ax,node_color='#FF00FF',edge_color='#51C5FF')\n",
    "plt.show()\n",
    "plt.close()\n",
    "\n",
    "# Define energy function\n",
    "omega = torch.tensor([np.pi/2],dtype=cell_graph.vertices.x.dtype)\n",
    "def monolayer_energy(Perm,Area,Leng,Tau,direction):\n",
    "    dir_coeff = torch.abs(direction[:,1])/torch.norm(direction,dim=1)/5\n",
    "    gamma_ij_by_lij = (Leng*dir_coeff.view(-1,1))*torch.cos(omega*Tau)**2\n",
    "    return (torch.sum(.01*(Perm)**2) + torch.sum((Area-2.3)**2) + torch.sum(gamma_ij_by_lij)), dir_coeff\n",
    "\n",
    "# Numerical integration\n",
    "Dt = 2**-3 # time step size\n",
    "t = [0]\n",
    "Energies = []\n",
    "Forces = []\n",
    "verts_t =[]\n",
    "verts_frames=[]\n",
    "line_tensions=[]\n",
    "print('Integration (Euler\\'s method):')\n",
    "t_total = 2**8\n",
    "\n",
    "cell_graph.vertices.requires_grad_(True)\n",
    "for n in range(t_total):\n",
    "    cell_graph.set_zero_grad_() # reset grad accumulator\n",
    "    t.append(t[-1]+Dt) # update last frame time\n",
    "    # total potential energy of the system:\n",
    "    E,dir_coeffs = monolayer_energy(cell_graph.perimeter(),cell_graph.area(),\n",
    "                         cell_graph.length(),t[-1],\n",
    "                        cell_graph.direction()) \n",
    "    Energies.append(E.item()) # E(t-1)\n",
    "    E.backward() # compute gradients\n",
    "    dxdt = -cell_graph.get_vertex_grad() # dx/dt=-dE/dx\n",
    "    # Update vertex position\n",
    "    with torch.no_grad():\n",
    "        cell_graph.vertices.x += dxdt*Dt\n",
    "        Forces.append(torch.norm(dxdt,dim=1).mean().item())\n",
    "    \n",
    "    if (n+1)%32==0:\n",
    "        verts_t.append(cell_graph.vertices.x.detach().clone())\n",
    "        verts_frames.append(t[-1])\n",
    "        line_tensions.append(dir_coeffs.detach().clone())\n",
    "    if round((n+1)%(t_total/8))==0:\n",
    "        mean_grad = torch.norm(dxdt,dim=1).mean().item()\n",
    "        print(f't={t[-1]:2.3f}: E={E.item():5.4g}; aver |dx/dt|= {mean_grad:3.2g}')\n",
    "Energies.append( monolayer_energy( cell_graph.perimeter(), cell_graph.area(),\n",
    "                                  cell_graph.length(),t[-1],cell_graph.direction())[0].item() )\n",
    "plt.figure(figsize=[5,3])\n",
    "plt.plot(t,Energies);plt.xlabel('time');plt.ylabel('energy');\n",
    "# add forces (except last frame)\n",
    "ax2=plt.gca().twinx()\n",
    "ax2.set_ylabel('Average $|F|$',color='red')\n",
    "ax2.plot(t[:-1],Forces,'r-',alpha=.4,lw=2)\n",
    "plt.show()\n",
    "# Print final Perimeters and Areas\n",
    "print(f\"Perimeters:{cell_graph.perimeter().detach().squeeze()}\\nAreas:{cell_graph.area().detach()}\")"
   ]
  },
  {
   "cell_type": "code",
   "execution_count": null,
   "metadata": {},
   "outputs": [],
   "source": [
    "ani_dir_grad_low_amplitude = animation.FuncAnimation(fig, draw_w_tension, interval=200,\n",
    "                              frames = range(0,len(verts_t),max(1,round(len(verts_t)/64))))"
   ]
  },
  {
   "cell_type": "code",
   "execution_count": null,
   "metadata": {},
   "outputs": [],
   "source": [
    "print('Direction has gradient w.r.t. positions (low line tension: 1/5)')\n",
    "# using HTML from IPython.display and matplotlib's animation module\n",
    "HTML(ani_dir_grad_low_amplitude.to_jshtml()) "
   ]
  },
  {
   "cell_type": "markdown",
   "metadata": {},
   "source": [
    "#### Random edges with active tension"
   ]
  },
  {
   "cell_type": "code",
   "execution_count": null,
   "metadata": {},
   "outputs": [],
   "source": [
    "e_ij_coeff = torch.zeros(len(edge_list),1,dtype=cell_graph.vertices.x.dtype)\n",
    "e_ij_on = np.random.rand(len(edge_list),1)<.2\n",
    "e_ij_coeff[e_ij_on] = 1.0\n"
   ]
  },
  {
   "cell_type": "code",
   "execution_count": null,
   "metadata": {},
   "outputs": [],
   "source": [
    "# define cell monolayer\n",
    "v_x,regions =unit_hexagons(4,4) # 4x4 hexagons\n",
    "# convert Voronoi regions to cells and edges\n",
    "edge_list,cells = VoronoiRegions2Edges(regions)\n",
    "# perturb vertices\n",
    "np.random.seed(42) # let's seed RNG for sanity and reproducibility\n",
    "v_x += np.random.randn(v_x.shape[0], v_x.shape[1])*.2\n",
    "\n",
    "cell_graph = Monolayer(vertices=Vertex(v_x.copy()), edges=torch.tensor(edge_list), cells=cells)\n",
    "\n",
    "Gnx,pos=graph2networkx_with_pos(cell_graph)\n",
    "\n",
    "fig = plt.figure(figsize=[5,5])\n",
    "fig.clf()\n",
    "ax = fig.subplots()\n",
    "ax.axis(False);\n",
    "nx.draw(Gnx,pos,node_size=10,ax=ax,node_color='#FF00FF',edge_color='#51C5FF')\n",
    "plt.show()\n",
    "plt.close()\n",
    "\n",
    "# Define energy function\n",
    "omega = torch.tensor([np.pi/2],dtype=cell_graph.vertices.x.dtype)\n",
    "e_ij_coeff = torch.zeros(len(edge_list),1,dtype=cell_graph.vertices.x.dtype)\n",
    "e_ij_on = np.random.rand(len(edge_list),1)<.2\n",
    "e_ij_coeff[e_ij_on] = 1.0\n",
    "e_ij_phase = torch.zeros_like(e_ij_coeff)\n",
    "e_ij_phase[e_ij_on] = torch.rand((e_ij_on.sum(),),dtype=cell_graph.vertices.x.dtype)\n",
    "def monolayer_energy(Perm,Area,Leng,Tau,direction):\n",
    "    gamma_ij_by_lij = (Leng*e_ij_coeff/5)*torch.cos(omega*Tau+e_ij_phase)**2\n",
    "    return (torch.sum(.1*(Perm)**2) + torch.sum((Area-2.3)**2) + torch.sum(gamma_ij_by_lij)),gamma_ij_by_lij.squeeze()\n",
    "\n",
    "# Numerical integration\n",
    "Dt = 2**-5 # time step size\n",
    "t = [0]\n",
    "Energies = []\n",
    "Forces = []\n",
    "verts_t =[]\n",
    "verts_frames=[]\n",
    "line_tensions=[]\n",
    "print('Integration (Euler\\'s method):')\n",
    "t_total = 2**10\n",
    "\n",
    "cell_graph.vertices.requires_grad_(True)\n",
    "for n in range(t_total):\n",
    "    cell_graph.set_zero_grad_() # reset grad accumulator\n",
    "    t.append(t[-1]+Dt) # update last frame time\n",
    "    # total potential energy of the system:\n",
    "    E,dir_coeffs = monolayer_energy(cell_graph.perimeter(),cell_graph.area(),\n",
    "                         cell_graph.length(),t[-1],\n",
    "                        cell_graph.direction()) \n",
    "    Energies.append(E.item()) # E(t-1)\n",
    "    E.backward() # compute gradients\n",
    "    dxdt = -cell_graph.get_vertex_grad() # dx/dt=-dE/dx\n",
    "    # Update vertex position\n",
    "    with torch.no_grad():\n",
    "        cell_graph.vertices.x += dxdt*Dt\n",
    "        Forces.append(torch.norm(dxdt,dim=1).mean().item())\n",
    "    \n",
    "    if (n+1)%32==0:\n",
    "        verts_t.append(cell_graph.vertices.x.detach().clone())\n",
    "        verts_frames.append(t[-1])\n",
    "        line_tensions.append(dir_coeffs.detach().clone())\n",
    "    if round((n+1)%(t_total/8))==0:\n",
    "        mean_grad = torch.norm(dxdt,dim=1).mean().item()\n",
    "        print(f't={t[-1]:2.3f}: E={E.item():5.4g}; aver |dx/dt|= {mean_grad:3.2g}')\n",
    "Energies.append( monolayer_energy( cell_graph.perimeter(), cell_graph.area(),\n",
    "                                  cell_graph.length(),t[-1],cell_graph.direction())[0].item() )\n",
    "plt.figure(figsize=[5,3])\n",
    "plt.plot(t,Energies);plt.xlabel('time');plt.ylabel('energy');\n",
    "# add forces (except last frame)\n",
    "ax2=plt.gca().twinx()\n",
    "ax2.set_ylabel('Average $|F|$',color='red')\n",
    "ax2.plot(t[:-1],Forces,'r-',alpha=.4,lw=2)\n",
    "plt.show()\n",
    "# Print final Perimeters and Areas\n",
    "print(f\"Perimeters:{cell_graph.perimeter().detach().squeeze()}\\nAreas:{cell_graph.area().detach()}\")"
   ]
  },
  {
   "cell_type": "code",
   "execution_count": null,
   "metadata": {},
   "outputs": [],
   "source": [
    "ani_dir_grad_low_mem_low = animation.FuncAnimation(fig, draw_w_tension, interval=200,\n",
    "                              frames = range(0,len(verts_t),max(1,round(len(verts_t)/128))))"
   ]
  },
  {
   "cell_type": "code",
   "execution_count": null,
   "metadata": {},
   "outputs": [],
   "source": [
    "print('Random edges with active tension')\n",
    "# using HTML from IPython.display and matplotlib's animation module\n",
    "HTML(ani_dir_grad_low_mem_low.to_jshtml()) "
   ]
  },
  {
   "cell_type": "code",
   "execution_count": null,
   "metadata": {},
   "outputs": [],
   "source": [
    "#hide\n",
    "# run this as a last cell in your notebook to export this module\n",
    "from nbdev.export import *\n",
    "notebook2script()"
   ]
  },
  {
   "cell_type": "code",
   "execution_count": null,
   "metadata": {},
   "outputs": [],
   "source": []
  }
 ],
 "metadata": {
  "kernelspec": {
   "display_name": "Python [conda env:pytorch]",
   "language": "python",
   "name": "conda-env-pytorch-py"
  }
 },
 "nbformat": 4,
 "nbformat_minor": 2
}
